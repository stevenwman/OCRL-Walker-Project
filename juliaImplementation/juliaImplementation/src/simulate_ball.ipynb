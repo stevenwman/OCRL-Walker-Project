{
 "cells": [
  {
   "cell_type": "code",
   "execution_count": 37,
   "metadata": {},
   "outputs": [
    {
     "name": "stderr",
     "output_type": "stream",
     "text": [
      "\u001b[32m\u001b[1m  Activating\u001b[22m\u001b[39m project at `~/Desktop/Work/Courses/OCRL-Walker-Project/juliaImplementation/juliaImplementation`\n"
     ]
    }
   ],
   "source": [
    "import Pkg; Pkg.activate(joinpath(@__DIR__,\"..\")); \n",
    "Pkg.instantiate()\n",
    "\n",
    "using ForwardDiff\n",
    "using LinearAlgebra\n",
    "using Statistics\n",
    "using Plots\n",
    "plotlyjs()\n",
    "using Printf\n",
    "using Random\n",
    "using DifferentialEquations"
   ]
  },
  {
   "cell_type": "code",
   "execution_count": 59,
   "metadata": {},
   "outputs": [
    {
     "data": {
      "text/plain": [
       "2-element Vector{Vector{Function}}:\n",
       " [idGuard, kneeGuard]\n",
       " [heelGuard, idGuard]"
      ]
     },
     "metadata": {},
     "output_type": "display_data"
    }
   ],
   "source": [
    "const FD = ForwardDiff;\n",
    "\n",
    "PLOTS_DEFAULTS = Dict(:dpi => 600);\n",
    "\n",
    "include(\"GeneralizedFunctionality/est_parameters.jl\");\n",
    "include(\"GeneralizedFunctionality/hybrid_system_simulation_tools.jl\")\n",
    "include(\"GeneralizedFunctionality/SKF_general.jl\")\n",
    "include(\"GeneralizedFunctionality/batch_estimation.jl\")\n",
    "include(\"GeneralizedFunctionality/generalized_saltation_calculations.jl\")\n",
    "include(\"DynamicSystems/bouncing_ball.jl\") # Defines hybrid system functions\n",
    "include(\"DynamicSystems/biped.jl\") # Defines hybrid system functions\n",
    "\n",
    "#Falling ball system definition\n",
    "# dynamics = [balldynamics,balldynamics]\n",
    "dynamics = [biped_dynamics_3link,biped_dynamics_2link]\n",
    "resets = [[idReset,kneeReset],[heelReset,idReset]]\n",
    "guards = [[idGuard,kneeGuard],[heelGuard,idGuard]]"
   ]
  },
  {
   "cell_type": "code",
   "execution_count": 53,
   "metadata": {},
   "outputs": [
    {
     "data": {
      "text/plain": [
       "ESTParameters([1.0 0.0 … 0.0 0.0; 0.0 1.0 … 0.0 0.0; 0.0 0.0 … 0.0 0.0], [0.0 0.0 0.0; 0.0 0.0 0.0; 0.0 0.0 0.0], [0.0 0.0 … 0.0 0.0; 0.0 0.0 … 0.0 0.0; … ; 0.0 0.0 … 0.0 0.0; 0.0 0.0 … 0.0 0.0], 0.01, Function[biped_dynamics_3link, biped_dynamics_2link], Vector{Function}[[idReset, kneeReset], [heelReset, idReset]], Vector{Function}[[idGuard, kneeGuard], [heelGuard, idGuard]])"
      ]
     },
     "metadata": {},
     "output_type": "display_data"
    }
   ],
   "source": [
    "#Definining initial states\n",
    "mode0 = 1\n",
    "# Σ = Diagonal([0.05,0.05,0.001,0.001])*1\n",
    "Σ = Diagonal([0.05,0.05,0.001,0.001,1,1])*0\n",
    "# xmean = [0.0,3.0,0.5,-5.0]\n",
    "\n",
    "q1 = 0.1877\n",
    "q2 = -0.2884\n",
    "q3 = q2\n",
    "q̇1 = -1.1014\n",
    "q̇2 = -0.0399\n",
    "q̇3 = q̇2\n",
    "\n",
    "xmean = [q1, q2, q3, q̇1, q̇2, q̇3]\n",
    "\n",
    "#Simulation times\n",
    "t = 1.0 #10\n",
    "dt = .01 #.1\n",
    "\n",
    "#noise and measurement parameters\n",
    "W = Diagonal([1.0,1.0,1.0,1.0,1,1])*0\n",
    "V = Diagonal([1.0,1.0,1])*0\n",
    "C = [I zeros(3,3)]\n",
    "\n",
    "#structure of all this\n",
    "param = ESTParameters(C,V,W,dt,dynamics,resets,guards)"
   ]
  },
  {
   "cell_type": "code",
   "execution_count": 60,
   "metadata": {},
   "outputs": [
    {
     "ename": "BoundsError",
     "evalue": "BoundsError: attempt to access 2-element Vector{Float64} at index [3]",
     "output_type": "error",
     "traceback": [
      "BoundsError: attempt to access 2-element Vector{Float64} at index [3]\n",
      "\n",
      "Stacktrace:\n",
      "  [1] getindex\n",
      "    @ ./array.jl:924 [inlined]\n",
      "  [2] indexed_iterate\n",
      "    @ ./tuple.jl:89 [inlined]\n",
      "  [3] B_matrix_2link(q::Vector{Float64}, q̇::Vector{Float64})\n",
      "    @ Main ~/Desktop/Work/Courses/OCRL-Walker-Project/juliaImplementation/juliaImplementation/src/DynamicSystems/biped.jl:72\n",
      "  [4] biped_dynamics_2link(x::Matrix{Float64}, u::Vector{Float64}, t::Float64)\n",
      "    @ Main ~/Desktop/Work/Courses/OCRL-Walker-Project/juliaImplementation/juliaImplementation/src/DynamicSystems/biped.jl:108\n",
      "  [5] (::var\"#553#554\"{typeof(biped_dynamics_2link), Int64})(dx::Matrix{Float64}, x::Matrix{Float64}, p::Vector{Float64}, t::Float64)\n",
      "    @ Main ~/Desktop/Work/Courses/OCRL-Walker-Project/juliaImplementation/juliaImplementation/src/GeneralizedFunctionality/hybrid_system_simulation_tools.jl:14\n",
      "  [6] ODEFunction\n",
      "    @ ~/.julia/packages/SciMLBase/SYylZ/src/scimlfunctions.jl:1701 [inlined]\n",
      "  [7] initialize!(integrator::OrdinaryDiffEq.ODEIntegrator{Tsit5{typeof(OrdinaryDiffEq.trivial_limiter!), typeof(OrdinaryDiffEq.trivial_limiter!), Static.False}, true, Matrix{Float64}, Nothing, Float64, Vector{Float64}, Float64, Float64, Float64, Float64, Vector{Matrix{Float64}}, ODESolution{Float64, 3, Vector{Matrix{Float64}}, Nothing, Nothing, Vector{Float64}, Vector{Vector{Matrix{Float64}}}, ODEProblem{Matrix{Float64}, Tuple{Float64, Float64}, true, Vector{Float64}, ODEFunction{true, SciMLBase.FullSpecialize, var\"#553#554\"{typeof(biped_dynamics_2link), Int64}, UniformScaling{Bool}, Nothing, Nothing, Nothing, Nothing, Nothing, Nothing, Nothing, Nothing, Nothing, Nothing, Nothing, Nothing, typeof(SciMLBase.DEFAULT_OBSERVED), Nothing, Nothing}, Base.Pairs{Symbol, Union{}, Tuple{}, NamedTuple{(), Tuple{}}}, SciMLBase.StandardODEProblem}, Tsit5{typeof(OrdinaryDiffEq.trivial_limiter!), typeof(OrdinaryDiffEq.trivial_limiter!), Static.False}, OrdinaryDiffEq.InterpolationData{ODEFunction{true, SciMLBase.FullSpecialize, var\"#553#554\"{typeof(biped_dynamics_2link), Int64}, UniformScaling{Bool}, Nothing, Nothing, Nothing, Nothing, Nothing, Nothing, Nothing, Nothing, Nothing, Nothing, Nothing, Nothing, typeof(SciMLBase.DEFAULT_OBSERVED), Nothing, Nothing}, Vector{Matrix{Float64}}, Vector{Float64}, Vector{Vector{Matrix{Float64}}}, OrdinaryDiffEq.Tsit5Cache{Matrix{Float64}, Matrix{Float64}, Matrix{Float64}, OrdinaryDiffEq.Tsit5ConstantCache{Float64, Float64}, typeof(OrdinaryDiffEq.trivial_limiter!), typeof(OrdinaryDiffEq.trivial_limiter!), Static.False}}, DiffEqBase.DEStats}, ODEFunction{true, SciMLBase.FullSpecialize, var\"#553#554\"{typeof(biped_dynamics_2link), Int64}, UniformScaling{Bool}, Nothing, Nothing, Nothing, Nothing, Nothing, Nothing, Nothing, Nothing, Nothing, Nothing, Nothing, Nothing, typeof(SciMLBase.DEFAULT_OBSERVED), Nothing, Nothing}, OrdinaryDiffEq.Tsit5Cache{Matrix{Float64}, Matrix{Float64}, Matrix{Float64}, OrdinaryDiffEq.Tsit5ConstantCache{Float64, Float64}, typeof(OrdinaryDiffEq.trivial_limiter!), typeof(OrdinaryDiffEq.trivial_limiter!), Static.False}, OrdinaryDiffEq.DEOptions{Float64, Float64, Float64, Float64, PIController{Rational{Int64}}, typeof(DiffEqBase.ODE_DEFAULT_NORM), typeof(opnorm), Nothing, CallbackSet{Tuple{VectorContinuousCallback{var\"#551#552\"{Vector{Function}}, Nothing, typeof(guard_condition_affect!), typeof(SciMLBase.INITIALIZE_DEFAULT), typeof(SciMLBase.FINALIZE_DEFAULT), Float64, Int64, Rational{Int64}, Nothing, Int64}}, Tuple{}}, typeof(DiffEqBase.ODE_DEFAULT_ISOUTOFDOMAIN), typeof(DiffEqBase.ODE_DEFAULT_PROG_MESSAGE), typeof(DiffEqBase.ODE_DEFAULT_UNSTABLE_CHECK), DataStructures.BinaryHeap{Float64, DataStructures.FasterForward}, DataStructures.BinaryHeap{Float64, DataStructures.FasterForward}, Nothing, Nothing, Int64, Tuple{}, Tuple{}, Tuple{}}, Matrix{Float64}, Float64, DiffEqBase.CallbackCache{Vector{Float64}, Vector{Float64}}, OrdinaryDiffEq.DefaultInit}, cache::OrdinaryDiffEq.Tsit5Cache{Matrix{Float64}, Matrix{Float64}, Matrix{Float64}, OrdinaryDiffEq.Tsit5ConstantCache{Float64, Float64}, typeof(OrdinaryDiffEq.trivial_limiter!), typeof(OrdinaryDiffEq.trivial_limiter!), Static.False})\n",
      "    @ OrdinaryDiffEq ~/.julia/packages/OrdinaryDiffEq/6F6Pc/src/perform_step/low_order_rk_perform_step.jl:736\n",
      "  [8] __init(prob::ODEProblem{Matrix{Float64}, Tuple{Float64, Float64}, true, Vector{Float64}, ODEFunction{true, SciMLBase.FullSpecialize, var\"#553#554\"{typeof(biped_dynamics_2link), Int64}, UniformScaling{Bool}, Nothing, Nothing, Nothing, Nothing, Nothing, Nothing, Nothing, Nothing, Nothing, Nothing, Nothing, Nothing, typeof(SciMLBase.DEFAULT_OBSERVED), Nothing, Nothing}, Base.Pairs{Symbol, Union{}, Tuple{}, NamedTuple{(), Tuple{}}}, SciMLBase.StandardODEProblem}, alg::Tsit5{typeof(OrdinaryDiffEq.trivial_limiter!), typeof(OrdinaryDiffEq.trivial_limiter!), Static.False}, timeseries_init::Tuple{}, ts_init::Tuple{}, ks_init::Tuple{}, recompile::Type{Val{true}}; saveat::Tuple{}, tstops::Tuple{}, d_discontinuities::Tuple{}, save_idxs::Nothing, save_everystep::Bool, save_on::Bool, save_start::Bool, save_end::Nothing, callback::VectorContinuousCallback{var\"#551#552\"{Vector{Function}}, Nothing, typeof(guard_condition_affect!), typeof(SciMLBase.INITIALIZE_DEFAULT), typeof(SciMLBase.FINALIZE_DEFAULT), Float64, Int64, Rational{Int64}, Nothing, Int64}, dense::Bool, calck::Bool, dt::Float64, dtmin::Nothing, dtmax::Float64, force_dtmin::Bool, adaptive::Bool, gamma::Rational{Int64}, abstol::Nothing, reltol::Nothing, qmin::Rational{Int64}, qmax::Int64, qsteady_min::Int64, qsteady_max::Int64, beta1::Nothing, beta2::Nothing, qoldinit::Rational{Int64}, controller::Nothing, fullnormalize::Bool, failfactor::Int64, maxiters::Int64, internalnorm::typeof(DiffEqBase.ODE_DEFAULT_NORM), internalopnorm::typeof(opnorm), isoutofdomain::typeof(DiffEqBase.ODE_DEFAULT_ISOUTOFDOMAIN), unstable_check::typeof(DiffEqBase.ODE_DEFAULT_UNSTABLE_CHECK), verbose::Bool, timeseries_errors::Bool, dense_errors::Bool, advance_to_tstop::Bool, stop_at_next_tstop::Bool, initialize_save::Bool, progress::Bool, progress_steps::Int64, progress_name::String, progress_message::typeof(DiffEqBase.ODE_DEFAULT_PROG_MESSAGE), userdata::Nothing, allow_extrapolation::Bool, initialize_integrator::Bool, alias_u0::Bool, alias_du0::Bool, initializealg::OrdinaryDiffEq.DefaultInit, kwargs::Base.Pairs{Symbol, Union{}, Tuple{}, NamedTuple{(), Tuple{}}})\n",
      "    @ OrdinaryDiffEq ~/.julia/packages/OrdinaryDiffEq/6F6Pc/src/solve.jl:489\n",
      "  [9] #__solve#563\n",
      "    @ ~/.julia/packages/OrdinaryDiffEq/6F6Pc/src/solve.jl:5 [inlined]\n",
      " [10] #solve_call#26\n",
      "    @ ~/.julia/packages/DiffEqBase/Lq1gG/src/solve.jl:473 [inlined]\n",
      " [11] solve_up(prob::ODEProblem{Matrix{Float64}, Tuple{Float64, Float64}, true, Vector{Float64}, ODEFunction{true, SciMLBase.FullSpecialize, var\"#553#554\"{typeof(biped_dynamics_2link), Int64}, UniformScaling{Bool}, Nothing, Nothing, Nothing, Nothing, Nothing, Nothing, Nothing, Nothing, Nothing, Nothing, Nothing, Nothing, typeof(SciMLBase.DEFAULT_OBSERVED), Nothing, Nothing}, Base.Pairs{Symbol, Union{}, Tuple{}, NamedTuple{(), Tuple{}}}, SciMLBase.StandardODEProblem}, sensealg::Nothing, u0::Matrix{Float64}, p::Vector{Float64}, args::Tsit5{typeof(OrdinaryDiffEq.trivial_limiter!), typeof(OrdinaryDiffEq.trivial_limiter!), Static.False}; kwargs::Base.Pairs{Symbol, Any, Tuple{Symbol, Symbol, Symbol}, NamedTuple{(:callback, :dt, :adaptive), Tuple{VectorContinuousCallback{var\"#551#552\"{Vector{Function}}, Nothing, typeof(guard_condition_affect!), typeof(SciMLBase.INITIALIZE_DEFAULT), typeof(SciMLBase.FINALIZE_DEFAULT), Float64, Int64, Rational{Int64}, Nothing, Int64}, Float64, Bool}}})\n",
      "    @ DiffEqBase ~/.julia/packages/DiffEqBase/Lq1gG/src/solve.jl:835\n",
      " [12] #solve#31\n",
      "    @ ~/.julia/packages/DiffEqBase/Lq1gG/src/solve.jl:802 [inlined]\n",
      " [13] dynamic_step(x::Vector{Float64}, mode::Int64, dynamics::Vector{Function}, resets::Vector{Vector{Function}}, guards::Vector{Vector{Function}}, t::Float64, dt::Float64, p::Vector{Float64})\n",
      "    @ Main ~/Desktop/Work/Courses/OCRL-Walker-Project/juliaImplementation/juliaImplementation/src/GeneralizedFunctionality/hybrid_system_simulation_tools.jl:39\n",
      " [14] sim_system(x::Vector{Float64}, mode::Int64, dynamics::Vector{Function}, resets::Vector{Vector{Function}}, guards::Vector{Vector{Function}}, W::Diagonal{Float64, Vector{Float64}}, V::Diagonal{Float64, Vector{Float64}}, C::Matrix{Float64}, t::Float64, dt::Float64)\n",
      "    @ Main ~/Desktop/Work/Courses/OCRL-Walker-Project/juliaImplementation/juliaImplementation/src/GeneralizedFunctionality/hybrid_system_simulation_tools.jl:67\n",
      " [15] top-level scope\n",
      "    @ ~/Desktop/Work/Courses/OCRL-Walker-Project/juliaImplementation/juliaImplementation/src/simulate_ball.ipynb:2"
     ]
    }
   ],
   "source": [
    "#Nominal Trajectory\n",
    "nom_states, times, _, nom_modes,nom_impact_states,_ = sim_system(xmean,mode0,dynamics,resets,guards,W*.000000000000001,V,C,t,dt)\n",
    "\n",
    "plot(0:dt:t,[state[1] for state in nom_states])\n",
    "display(plot!())\n",
    "plot(0:dt:t,[state[2] for state in nom_states])\n",
    "display(plot!())"
   ]
  },
  {
   "cell_type": "code",
   "execution_count": null,
   "metadata": {},
   "outputs": [],
   "source": [
    "# #Noisy Trajectory & Single Kalman Filter Solve\n",
    "# Random.seed!(1) # get a trial consistently\n",
    "# xstart = xmean + sqrt(Σ)*randn(size(xmean))\n",
    "\n",
    "# states, measurements = sim_system(xstart,mode0,dynamics,resets,guards,W,V,C,t,dt)\n",
    "# est_states, _ = skf(param,xmean,Σ,mode0,measurements)\n",
    "# plot([state[1] for state in states],[state[2] for state in states],label=\"Ground Truth\")\n",
    "# plot!([state[1] for state in est_states],[state[2] for state in est_states],label=\"SKF Estimate\")\n",
    "# scatter!([meas[1] for meas in measurements],[meas[2] for meas in measurements],label=\"measurements\")\n",
    "# display(plot!())\n",
    "\n",
    "# # Multiple Trials for SKF:\n",
    "# iters = 10\n",
    "# random_seed = 3\n",
    "\n",
    "# avg_err, avg_step_err, avg_error, avgTime, step_err_kf = runMultipleKF(dynamics,resets,guards,W,V,C,xmean,Σ,mode0,t,dt;num_iters=iters,randseed=random_seed);\n",
    "\n",
    "# display(plot(avg_step_err))"
   ]
  }
 ],
 "metadata": {
  "kernelspec": {
   "display_name": "Julia 1.8.3",
   "language": "julia",
   "name": "julia-1.8"
  },
  "language_info": {
   "file_extension": ".jl",
   "mimetype": "application/julia",
   "name": "julia",
   "version": "1.8.3"
  }
 },
 "nbformat": 4,
 "nbformat_minor": 2
}
