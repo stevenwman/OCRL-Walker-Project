{
 "cells": [
  {
   "cell_type": "code",
   "execution_count": 37,
   "metadata": {},
   "outputs": [
    {
     "name": "stderr",
     "output_type": "stream",
     "text": [
      "\u001b[32m\u001b[1m  Activating\u001b[22m\u001b[39m project at `~/Desktop/Work/Courses/OCRL-Walker-Project/juliaImplementation/juliaImplementation`\n"
     ]
    }
   ],
   "source": [
    "import Pkg; Pkg.activate(joinpath(@__DIR__,\"..\")); \n",
    "Pkg.instantiate()\n",
    "\n",
    "using ForwardDiff\n",
    "using LinearAlgebra\n",
    "using Statistics\n",
    "using Plots\n",
    "plotlyjs()\n",
    "using Printf\n",
    "using Random\n",
    "using DifferentialEquations"
   ]
  },
  {
   "cell_type": "code",
   "execution_count": 47,
   "metadata": {},
   "outputs": [
    {
     "data": {
      "text/plain": [
       "2-element Vector{Vector{Function}}:\n",
       " [idGuard, kneeGuard]\n",
       " [heelGuard, idGuard]"
      ]
     },
     "metadata": {},
     "output_type": "display_data"
    }
   ],
   "source": [
    "const FD = ForwardDiff;\n",
    "\n",
    "PLOTS_DEFAULTS = Dict(:dpi => 600);\n",
    "\n",
    "include(\"GeneralizedFunctionality/est_parameters.jl\");\n",
    "include(\"GeneralizedFunctionality/hybrid_system_simulation_tools.jl\")\n",
    "include(\"GeneralizedFunctionality/SKF_general.jl\")\n",
    "include(\"GeneralizedFunctionality/batch_estimation.jl\")\n",
    "include(\"GeneralizedFunctionality/generalized_saltation_calculations.jl\")\n",
    "include(\"DynamicSystems/bouncing_ball.jl\") # Defines hybrid system functions\n",
    "include(\"DynamicSystems/biped.jl\") # Defines hybrid system functions\n",
    "\n",
    "#Falling ball system definition\n",
    "# dynamics = [balldynamics,balldynamics]\n",
    "dynamics = [biped_dynamics_3link,biped_dynamics_2link]\n",
    "resets = [[idReset,kneeReset],[heelReset,idReset]]\n",
    "guards = [[idGuard,kneeGuard],[heelGuard,idGuard]]"
   ]
  },
  {
   "cell_type": "code",
   "execution_count": 48,
   "metadata": {},
   "outputs": [
    {
     "data": {
      "text/plain": [
       "ESTParameters([1.0 0.0 … 0.0 0.0; 0.0 1.0 … 0.0 0.0; 0.0 0.0 … 0.0 0.0], [0.0, 0.0, 0.0], [0.0, 0.0, 0.0, 0.0, 0.0, 0.0], 0.01, Function[biped_dynamics_3link, biped_dynamics_2link], Vector{Function}[[idReset, kneeReset], [heelReset, idReset]], Vector{Function}[[idGuard, kneeGuard], [heelGuard, idGuard]])"
      ]
     },
     "metadata": {},
     "output_type": "display_data"
    }
   ],
   "source": [
    "#Definining initial states\n",
    "mode0 = 1\n",
    "# Σ = Diagonal([0.05,0.05,0.001,0.001])*1\n",
    "Σ = zeros(6)\n",
    "# xmean = [0.0,3.0,0.5,-5.0]\n",
    "\n",
    "q1 = 0.1877\n",
    "q2 = -0.2884\n",
    "q3 = q2\n",
    "q̇1 = -1.1014\n",
    "q̇2 = -0.0399\n",
    "q̇3 = q̇2\n",
    "\n",
    "xmean = [q1, q2, q3, q̇1, q̇2, q̇3]\n",
    "\n",
    "#Simulation times\n",
    "t = 1.0 #10\n",
    "dt = .01 #.1\n",
    "\n",
    "#noise and measurement parameters\n",
    "W = zeros(6)\n",
    "V = zeros(3)\n",
    "C = [I zeros(3,3)]\n",
    "\n",
    "#structure of all this\n",
    "param = ESTParameters(C,V,W,dt,dynamics,resets,guards)"
   ]
  },
  {
   "cell_type": "code",
   "execution_count": 49,
   "metadata": {},
   "outputs": [
    {
     "ename": "MethodError",
     "evalue": "MethodError: no method matching sqrt(::Vector{Float64})\nClosest candidates are:\n  sqrt(!Matched::Union{Float32, Float64}) at math.jl:590\n  sqrt(!Matched::StridedMatrix{T}) where T<:Union{Real, Complex} at ~/julia-1.8.3/share/julia/stdlib/v1.8/LinearAlgebra/src/dense.jl:853\n  sqrt(!Matched::Union{Static.StaticBool{N}, Static.StaticFloat64{N}, Static.StaticInt{N}}) where N at ~/.julia/packages/Static/ZVHh4/src/Static.jl:348\n  ...",
     "output_type": "error",
     "traceback": [
      "MethodError: no method matching sqrt(::Vector{Float64})\n",
      "Closest candidates are:\n",
      "  sqrt(!Matched::Union{Float32, Float64}) at math.jl:590\n",
      "  sqrt(!Matched::StridedMatrix{T}) where T<:Union{Real, Complex} at ~/julia-1.8.3/share/julia/stdlib/v1.8/LinearAlgebra/src/dense.jl:853\n",
      "  sqrt(!Matched::Union{Static.StaticBool{N}, Static.StaticFloat64{N}, Static.StaticInt{N}}) where N at ~/.julia/packages/Static/ZVHh4/src/Static.jl:348\n",
      "  ...\n",
      "\n",
      "Stacktrace:\n",
      " [1] sim_system(x::Vector{Float64}, mode::Int64, dynamics::Vector{Function}, resets::Vector{Vector{Function}}, guards::Vector{Vector{Function}}, W::Vector{Float64}, V::Vector{Float64}, C::Matrix{Float64}, t::Float64, dt::Float64)\n",
      "   @ Main ~/Desktop/Work/Courses/OCRL-Walker-Project/juliaImplementation/juliaImplementation/src/GeneralizedFunctionality/hybrid_system_simulation_tools.jl:65\n",
      " [2] top-level scope\n",
      "   @ ~/Desktop/Work/Courses/OCRL-Walker-Project/juliaImplementation/juliaImplementation/src/simulate_ball.ipynb:2"
     ]
    }
   ],
   "source": [
    "#Nominal Trajectory\n",
    "nom_states, times, _, nom_modes,nom_impact_states,_ = sim_system(xmean,mode0,dynamics,resets,guards,W*.000000000000001,V,C,t,dt)\n",
    "\n",
    "plot(0:dt:t,[state[1] for state in nom_states])\n",
    "display(plot!())\n",
    "plot(0:dt:t,[state[2] for state in nom_states])\n",
    "display(plot!())"
   ]
  },
  {
   "cell_type": "code",
   "execution_count": null,
   "metadata": {},
   "outputs": [],
   "source": [
    "# #Noisy Trajectory & Single Kalman Filter Solve\n",
    "# Random.seed!(1) # get a trial consistently\n",
    "# xstart = xmean + sqrt(Σ)*randn(size(xmean))\n",
    "\n",
    "# states, measurements = sim_system(xstart,mode0,dynamics,resets,guards,W,V,C,t,dt)\n",
    "# est_states, _ = skf(param,xmean,Σ,mode0,measurements)\n",
    "# plot([state[1] for state in states],[state[2] for state in states],label=\"Ground Truth\")\n",
    "# plot!([state[1] for state in est_states],[state[2] for state in est_states],label=\"SKF Estimate\")\n",
    "# scatter!([meas[1] for meas in measurements],[meas[2] for meas in measurements],label=\"measurements\")\n",
    "# display(plot!())\n",
    "\n",
    "# # Multiple Trials for SKF:\n",
    "# iters = 10\n",
    "# random_seed = 3\n",
    "\n",
    "# avg_err, avg_step_err, avg_error, avgTime, step_err_kf = runMultipleKF(dynamics,resets,guards,W,V,C,xmean,Σ,mode0,t,dt;num_iters=iters,randseed=random_seed);\n",
    "\n",
    "# display(plot(avg_step_err))"
   ]
  }
 ],
 "metadata": {
  "kernelspec": {
   "display_name": "Julia 1.8.3",
   "language": "julia",
   "name": "julia-1.8"
  },
  "language_info": {
   "file_extension": ".jl",
   "mimetype": "application/julia",
   "name": "julia",
   "version": "1.8.3"
  }
 },
 "nbformat": 4,
 "nbformat_minor": 2
}
