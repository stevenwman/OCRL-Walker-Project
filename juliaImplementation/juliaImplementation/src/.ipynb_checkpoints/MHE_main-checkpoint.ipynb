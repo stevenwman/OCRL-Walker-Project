{
 "cells": [
  {
   "cell_type": "markdown",
   "id": "a4f128f2",
   "metadata": {},
   "source": [
    "# Main MHE Driver\n",
    "This notebook is used to run comparisons between MHE, Particle Filters, SKF on a variety of systems"
   ]
  },
  {
   "cell_type": "code",
   "execution_count": 1,
   "id": "60b84f2c",
   "metadata": {},
   "outputs": [],
   "source": [
    "#Import a bunch of stuff here"
   ]
  },
  {
   "cell_type": "markdown",
   "id": "b745d334",
   "metadata": {},
   "source": [
    "### Generate Trajectories and Measurements\n",
    "Generate N series of states and measurements from the system"
   ]
  },
  {
   "cell_type": "code",
   "execution_count": 2,
   "id": "c4f54d18",
   "metadata": {},
   "outputs": [],
   "source": [
    "#### Initialize a system:\n",
    "# hybrid_sys = bouncingball(params)\n",
    "# hybrid_sys = aslip(params)\n",
    "\n",
    "\n",
    "#### Get data points:\n",
    "t = 3\n",
    "dt = .01\n",
    "N = 100\n",
    "# initial_conds = [0,5,0,0]\n",
    "# initial_conds = [0,5,0,0,0,0,0,4]\n",
    "trajectories, measurements, times, modes = sim_system(x,mode,dynamics,resets,guards,W,V,C,t,dt);"
   ]
  },
  {
   "cell_type": "markdown",
   "id": "cc35d9fa",
   "metadata": {},
   "source": [
    "### Get estimations\n",
    "Use the measurements from the prior block to estimate trajectories using multiple estimation methods"
   ]
  },
  {
   "cell_type": "code",
   "execution_count": 3,
   "id": "52720330",
   "metadata": {},
   "outputs": [],
   "source": [
    "#### estimate trajectories\n",
    "# traj_est_MHE = est_multiple_MHE(hybrid_sys, initial conds, dt, t, measurements)\n",
    "# traj_est_PF = est_multiple_PF(hybrid_sys, initial conds, dt, t, measurements)\n",
    "# traj_est_SKF = est_multiple_SKF(hybrid_sys, initial conds, dt, t, measurements)"
   ]
  },
  {
   "cell_type": "markdown",
   "id": "795f4988",
   "metadata": {},
   "source": [
    "### Compute error metrics\n",
    "Compute the error between estimated trajectories and the ground truth trajectory for each estimation method"
   ]
  },
  {
   "cell_type": "code",
   "execution_count": 4,
   "id": "23d564c1",
   "metadata": {},
   "outputs": [],
   "source": [
    "#### Compute metrics:\n",
    "# avg_error_MHE = calc_avg_error(traj_est_MHE, trajectories)\n",
    "# avg_error_PF = calc_avg_error(traj_est_PF, trajectories)\n",
    "# avg_error_SKF = calc_avg_error(traj_est_SKF, trajectories)"
   ]
  },
  {
   "cell_type": "markdown",
   "id": "b5b83c71",
   "metadata": {},
   "source": [
    "### Generate Graphs\n",
    "Make graphs comparing the results of the different average errors"
   ]
  },
  {
   "cell_type": "code",
   "execution_count": 5,
   "id": "0d934a0f",
   "metadata": {},
   "outputs": [],
   "source": [
    "#### Plot 1: Comparison of average values, both in 2-space and elementwise:\n",
    "# plot_avg_trajs(trajectories,traj_est_MHE, traj_est_PF, traj_est_SKF)\n",
    "\n",
    "#### Plot 2: Average error plots, elementwise and overall\n",
    "# plot_avg_errors(avg_error_MHE, average_error_PF, average_error_SKF)"
   ]
  }
 ],
 "metadata": {
  "kernelspec": {
   "display_name": "Julia 1.6.5",
   "language": "julia",
   "name": "julia-1.6"
  },
  "language_info": {
   "file_extension": ".jl",
   "mimetype": "application/julia",
   "name": "julia",
   "version": "1.6.5"
  }
 },
 "nbformat": 4,
 "nbformat_minor": 5
}
