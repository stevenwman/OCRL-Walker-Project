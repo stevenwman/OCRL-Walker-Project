{
 "cells": [
  {
   "cell_type": "markdown",
   "id": "2f7f4015",
   "metadata": {},
   "source": [
    "# Simple 2-D, 4-Mode dynamic system\n",
    "## D1: x_1 < 0, x_2 < 0: x' = [1,1]\n",
    "## D2: x_1 < 0, x_2 > 0: x' = [2,1]\n",
    "## D3: x_1 > 0, x_2 < 0: x' = [1,2]\n",
    "## D4: x_1 > 0, x_2 > 0: x' = [2,2]\n",
    "### G12: x2 = 0, R12: x = x + [0,1]\n",
    "### G13: x1 = 0, R13: x = x + [1,0]\n",
    "### G24: x1 = 0, R24: x = x + [1,0]\n",
    "### G34: x2 = 0, R34: x = x + [0,1]\n",
    "### All other Rij: x = x\n"
   ]
  },
  {
   "cell_type": "code",
   "execution_count": null,
   "id": "ffe695a3",
   "metadata": {},
   "outputs": [],
   "source": [
    "# function f1(x,p,t)\n",
    "#     dx = [1,1]\n",
    "#     return dx\n",
    "# end\n",
    "\n",
    "# function f2(x,p,t)\n",
    "#     dx = [2,1]\n",
    "#     return dx\n",
    "# end\n",
    "\n",
    "# function f3(x,p,t)\n",
    "#     dx = [1,2]\n",
    "#     return dx\n",
    "# end\n",
    "\n",
    "# function f4(x,p,t)\n",
    "#     dx = [2,2]\n",
    "#     return dx\n",
    "# end\n",
    "\n",
    "# function r_id(x)\n",
    "#     return x\n",
    "# end\n",
    "\n",
    "# function r_12(x)\n",
    "#     return x + [0,1]\n",
    "# end\n",
    "\n",
    "# function r_13(x)\n",
    "#     return x + [1,0]\n",
    "# end\n",
    "\n",
    "# function r_24(x)\n",
    "#     return x + [1,0]\n",
    "# end\n",
    "\n",
    "# function r_34(x)\n",
    "#     return x + [0,1]\n",
    "# end\n",
    "\n",
    "# function g_no(x,t)\n",
    "#     return 1\n",
    "# end\n",
    "\n",
    "# function g1(x,t)\n",
    "#     return x[1]\n",
    "# end\n",
    "\n",
    "# function g2(x,t)\n",
    "#     return x[2]\n",
    "# end\n",
    "\n",
    "# dynamics = [f1,f2,f3,f4]\n",
    "\n",
    "# resets = [[r_id,r_12,r_13,r_id],[r_id,r_id,r_id,r_24],[r_id,r_id,r_id,r_34],[r_id,r_id,r_id,r_id]]\n",
    "# guards = [[g_no,g2,g1,g_no],[g_no,g_no,g_no,g1],[g_no,g_no,g_no,g2],[g_no,g_no,g_no,g_no]]"
   ]
  },
  {
   "cell_type": "code",
   "execution_count": null,
   "id": "fcc8ce27",
   "metadata": {},
   "outputs": [],
   "source": [
    "# params = [[0.0,0.0] for j = 0:.01:2]\n",
    "# W = .01*I\n",
    "# V = .1*I\n",
    "# C = I\n",
    "# # display(params)\n",
    "# states, times, modes = sim_system([-1.0,-2.0],1,dynamics,resets,guards,W,V,C,2,0.01)\n",
    "# plot([x[1] for x in states],[x[2] for x in states])\n",
    "\n",
    "# dynamic_step([-2,-1],1,dynamics,resets,guards,0,2)"
   ]
  }
 ],
 "metadata": {
  "kernelspec": {
   "display_name": "Julia 1.6.5",
   "language": "julia",
   "name": "julia-1.6"
  },
  "language_info": {
   "file_extension": ".jl",
   "mimetype": "application/julia",
   "name": "julia",
   "version": "1.6.5"
  }
 },
 "nbformat": 4,
 "nbformat_minor": 5
}
