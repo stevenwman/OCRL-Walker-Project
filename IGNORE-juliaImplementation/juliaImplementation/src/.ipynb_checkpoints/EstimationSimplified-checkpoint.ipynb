{
 "cells": [
  {
   "cell_type": "code",
   "execution_count": 1,
   "metadata": {},
   "outputs": [
    {
     "name": "stderr",
     "output_type": "stream",
     "text": [
      "\u001b[32m\u001b[1m  Activating\u001b[22m\u001b[39m environment at `C:\\Users\\Joe\\Documents\\hybridMHE\\juliaImplementation\\Project.toml`\n"
     ]
    }
   ],
   "source": [
    "import Pkg; Pkg.activate(joinpath(@__DIR__,\"..\")); \n",
    "Pkg.instantiate()\n",
    "using ForwardDiff\n",
    "using Test\n",
    "using RobotZoo: PlanarQuadrotor\n",
    "using RobotDynamics\n",
    "using LinearAlgebra\n",
    "using StaticArrays\n",
    "using Statistics\n",
    "using Plots\n",
    "using Printf\n",
    "using JLD2\n",
    "using Random\n",
    "# const jldir = joinpath(dirname(@__DIR__),\"test\")\n",
    "\n",
    "const FD = ForwardDiff;\n",
    "\n",
    "# test_dict = Dict()\n",
    "# test_dict = load(joinpath(jldir,\"q1.jld2\"))\n",
    "\n",
    "const isautograder = @isdefined autograder\n",
    "\n",
    "include(\"quadrotor.jl\");\n",
    "include(\"lqrParameters.jl\");\n",
    "include(\"estParameters.jl\");\n",
    "include(\"quadrotorDynamics.jl\");\n",
    "include(\"costFunctions.jl\");\n",
    "include(\"estCostFunctions.jl\");\n",
    "include(\"iLQR.jl\");\n",
    "include(\"iLQRest.jl\");"
   ]
  },
  {
   "cell_type": "markdown",
   "metadata": {},
   "source": [
    "# Iterative LQR for State Estimation\n",
    "Implementation of iterative LQR (ilQR) for state estimation, using the Gauss-Newton approximation of differential dynamic programming (DDP). Used to estimate trajectories for a planar quadrotor model.\n",
    "\n",
    "## The Model\n",
    "\n",
    "$$ \n",
    "x = \\begin{bmatrix} p_x \\\\ p_z \\\\ \\theta \\\\ v_x \\\\ v_z \\\\ \\omega \\end{bmatrix}, \\quad\n",
    "\\dot{x} = \\begin{bmatrix} v_x \\\\ v_z \\\\ \\omega \\\\ \n",
    "\\frac{1}{m} (u_1 + u_2) \\sin{\\theta} \\\\\n",
    "\\frac{1}{m} (u_1 + u_2) \\cos{\\theta} - g \\\\\n",
    "\\frac{l}{J} (u_2 - u_1) \n",
    "\\end{bmatrix}\n",
    "$$\n",
    "with the following model parameters:\n",
    "* $m$: mass (kg)\n",
    "* $J$: moment of inertia\n",
    "* $l$: distance between motors"
   ]
  },
  {
   "cell_type": "code",
   "execution_count": 2,
   "metadata": {},
   "outputs": [
    {
     "data": {
      "text/plain": [
       "61"
      ]
     },
     "execution_count": 2,
     "metadata": {},
     "output_type": "execute_result"
    }
   ],
   "source": [
    "model = PlanarQuadrotor()\n",
    "const x0    = [-3, 1.0, 0, 0, 0, 0]                    # initial state\n",
    "const xgoal = [+3, 1.0, 0, 0, 0, 0]                    # goal state\n",
    "const nx = 6 \n",
    "const nu = 2\n",
    "const uhover = fill(0.5*1.0 * 9.81, nu) \n",
    "\n",
    "const Q = Diagonal(([ones(3) ; fill(0.1, 3)]))\n",
    "const R = Diagonal(fill(1e-2, nu))\n",
    "const Qf = Diagonal(fill(1e2, nx));\n",
    "const C = [I zeros(3,3)]\n",
    "const V = Diagonal([.1,.1,π/64])\n",
    "const W = Diagonal([.001, .001,π/256,.1,.1,.1])\n",
    "\n",
    "const dt = 0.025 \n",
    "const N = 61"
   ]
  },
  {
   "cell_type": "markdown",
   "metadata": {},
   "source": [
    "Use these functions to evaluate the continuous and discrete dynamics, as well as the discrete dynamics Jacobians."
   ]
  },
  {
   "cell_type": "code",
   "execution_count": 3,
   "metadata": {},
   "outputs": [
    {
     "data": {
      "text/plain": [
       "dynamics_jacobians"
      ]
     },
     "execution_count": 3,
     "metadata": {},
     "output_type": "execute_result"
    }
   ],
   "source": [
    "\"\"\"\n",
    "Calculate the continuous time dynamics ẋ = f(x,u), x is a vector of length 6, u is a vector of length 2.\n",
    "\n",
    "returns ẋ\n",
    "\"\"\"\n",
    "\n",
    "function dynamics(x,u,w)\n",
    "    # planar quadrotor dynamics\n",
    "    # parameters\n",
    "    mass = 1.0 \n",
    "    g = 9.81\n",
    "    ℓ = 0.3 \n",
    "    J = 0.2*mass*ℓ^2\n",
    "\n",
    "     # unpack state\n",
    "    px,pz,θ,vx,vz,ω = x    \n",
    "    return [vx,vz,ω,(1/mass)*(u[1] + u[2])*sin(θ), (1/mass)*(u[1] + u[2])*cos(θ) - g, (ℓ/(2*J))*(u[2]-u[1])] + w\n",
    "end\n",
    "\n",
    "\"\"\"\n",
    "Integrates the dynamics ODE 1 dt forward, x_{k+1} = rk4(x_k,u_k,dt).\n",
    "\n",
    "returns x_{k+1}\n",
    "\"\"\"\n",
    "function rk4(x,u,w,dt)\n",
    "    # rk4 for integration\n",
    "    k1 = dt*dynamics(x,u,w)\n",
    "    k2 = dt*dynamics(x + k1/2,u,w)\n",
    "    k3 = dt*dynamics(x + k2/2,u,w)\n",
    "    k4 = dt*dynamics(x + k3,u,w)\n",
    "    return x + (1/6)*(k1 + 2*k2 + 2*k3 + k4)\n",
    "end\n",
    "\n",
    "\"\"\"\n",
    "uses forward diff to get the following jacobians of the above discrete dynamics function (rk4):\n",
    "drk4/dx = A \n",
    "drk4/du = B\n",
    "\"\"\"\n",
    "function dynamics_jacobians(x,u,w,dt)\n",
    "    # returns the discrete time dynamics jacobians\n",
    "    A = FD.jacobian(_x -> rk4(_x,u,w,dt),x)\n",
    "    B = FD.jacobian(_u -> rk4(x,_u,w,dt),u)\n",
    "    Bw = FD.jacobian(_w -> rk4(x,u,_w,dt),w)\n",
    "    return A,B,Bw\n",
    "end"
   ]
  },
  {
   "cell_type": "markdown",
   "metadata": {},
   "source": [
    "# Part (a): Implement iLQR (30 pts)"
   ]
  },
  {
   "cell_type": "markdown",
   "metadata": {},
   "source": [
    "## LQR Cost Function (5 pts)\n",
    "Here you will create functions for calculating the costs of states/controls as well as whole trajectories. \n",
    "\n",
    "The objective / cost function for our optimization problem is of the following form:\n",
    "\n",
    "$$\\ell(x_{1:N}, u_{1:N-1}) = J_N(x_N) + \\sum_{i=1}^{N-1} J(x_k,u_k) $$\n",
    "\n",
    "Where the *stage cost* $J(x_k,u_k)$ is defined as:\n",
    "\n",
    "$$J(x,u) = \\frac{1}{2}(x - x_{ref})^TQ(x - x_{ref}) + \\frac{1}{2}(u -u_{ref})^TR(u-u_{ref})$$\n",
    "\n",
    "And the *terminal cost* is\n",
    "\n",
    "$$J_N(x) = \\frac{1}{2}(x - x_{ref})^TQ_f(x - x_{ref})$$\n",
    "\n",
    "These cost functions penalize distance from a given reference trajectory. Quadratic cost functions of this form are often referred to as LQR costs."
   ]
  },
  {
   "cell_type": "code",
   "execution_count": 4,
   "metadata": {},
   "outputs": [
    {
     "data": {
      "text/plain": [
       "term_cost_expansion (generic function with 1 method)"
      ]
     },
     "execution_count": 4,
     "metadata": {},
     "output_type": "execute_result"
    }
   ],
   "source": [
    "function stage_cost(x,u,xref,uref)\n",
    "    # LQR cost at each knot point (depends on both x and u)\n",
    "    J = 0.0\n",
    "    J = 0.5*(x-xref)'*Q*(x-xref) + 0.5*(u-uref)'*R*(u-uref)\n",
    "    return J\n",
    "end\n",
    "\n",
    "function term_cost(x,xref)\n",
    "    # LQR terminal cost (depends on just x)\n",
    "    J = 0.0 \n",
    "    J = 0.5*(x-xref)'*Qf*(x-xref)\n",
    "    return J\n",
    "end\n",
    "\n",
    "function trajectory_cost(X,U,Xref,Uref)\n",
    "    # calculate the cost of a given trajectory \n",
    "    J = 0.0\n",
    "    for i = 1:N-1\n",
    "        J = J + stage_cost(X[i],U[i],Xref[i],Uref[i])\n",
    "    end\n",
    "    J = J + term_cost(X[end],Xref[end])\n",
    "    return J\n",
    "end\n",
    "        \n",
    "function stage_cost_expansion(x,u,xref,uref)\n",
    "    # if the stage cost function is J, return the following derivatives:\n",
    "    # ∇²ₓJ,  ∇ₓJ, ∇²ᵤJ, ∇ᵤJ\n",
    "    Jxx = zeros(nx,nx)\n",
    "    Jxx = Q\n",
    "    Jx = zeros(nx)\n",
    "    Jx = Q*(x-xref)\n",
    "    Juu = zeros(nu,nu)\n",
    "    Juu = R\n",
    "    Ju = zeros(nu)\n",
    "    Ju = R*(u-uref)\n",
    "    \n",
    "    return Jxx, Jx, Juu, Ju\n",
    "end\n",
    "\n",
    "function term_cost_expansion(x,xref)\n",
    "    # if the terminal cost function is J, return the following derivatives:\n",
    "    # ∇²ₓJ,  ∇ₓJ\n",
    "    Jxx = zeros(nx,nx)\n",
    "    Jxx = Qf\n",
    "    Jx = zeros(nx)\n",
    "    Jx = Qf*(x-xref)\n",
    "    \n",
    "    return Jxx, Jx\n",
    "end"
   ]
  },
  {
   "cell_type": "code",
   "execution_count": 5,
   "metadata": {},
   "outputs": [
    {
     "data": {
      "text/plain": [
       "term_cost_expansion_MHE (generic function with 1 method)"
      ]
     },
     "execution_count": 5,
     "metadata": {},
     "output_type": "execute_result"
    }
   ],
   "source": [
    "function stage_cost_MHE(x,u,y)\n",
    "    # LQR cost at each knot point (depends on both x and u)\n",
    "    J = 0.0\n",
    "    J = 0.5*(C*x-y)'*inv(V)*(C*x-y) + 0.5*(u)'*inv(W)*(u)\n",
    "    return J\n",
    "end\n",
    "\n",
    "function term_cost_MHE(x,y)\n",
    "    # LQR terminal cost (depends on just x)\n",
    "    J = 0.0 \n",
    "    J = 0.5*(C*x-y)'*inv(V)*(C*x-y)\n",
    "    return J\n",
    "end\n",
    "\n",
    "function trajectory_cost_MHE(X,U,y)\n",
    "    # calculate the cost of a given trajectory \n",
    "    J = 0.0\n",
    "    for i = 1:N-1\n",
    "        J = J + stage_cost_MHE(X[i],U[i],y[i])\n",
    "    end\n",
    "    J = J + term_cost_MHE(X[end],y[end])\n",
    "    return J\n",
    "end\n",
    "        \n",
    "function stage_cost_expansion_MHE(x,u,y)\n",
    "    # if the stage cost function is J, return the following derivatives:\n",
    "    # ∇²ₓJ,  ∇ₓJ, ∇²ᵤJ, ∇ᵤJ\n",
    "    Jxx = C'*inv(V)*C\n",
    "    Jx = C'*inv(V)*(C*x-y)\n",
    "    Juu = inv(W)\n",
    "    Ju = inv(W)*(u)\n",
    "    \n",
    "    return Jxx, Jx, Juu, Ju\n",
    "end\n",
    "\n",
    "function term_cost_expansion_MHE(x,y)\n",
    "    # if the terminal cost function is J, return the following derivatives:\n",
    "    # ∇²ₓJ,  ∇ₓJ\n",
    "    Jxx = C'*inv(V)*C\n",
    "    Jx = C'*inv(V)*(C*x-y)\n",
    "    \n",
    "    return Jxx, Jx\n",
    "end"
   ]
  },
  {
   "cell_type": "markdown",
   "metadata": {},
   "source": [
    "## Backward Pass (10 pts)\n",
    "You will now implement the backwards pass of iLQR. Remember that iLQR has two parts, a backward pass and a forward pass.  The backward pass is where feedforward controls `d` and feedback gains `K` are solved for. \n",
    "\n",
    "Hint: initialize $\\Delta J$ as 0, and during each step of the backwards pass, add $g_u^Td_k$ to it. "
   ]
  },
  {
   "cell_type": "code",
   "execution_count": 6,
   "metadata": {},
   "outputs": [
    {
     "data": {
      "text/plain": [
       "backward_pass (generic function with 1 method)"
      ]
     },
     "execution_count": 6,
     "metadata": {},
     "output_type": "execute_result"
    }
   ],
   "source": [
    "\"\"\"\n",
    "backward pass for iLQR. Inputs are \n",
    "    X - current trajectory              Vector{Vector}\n",
    "    U - current control                 Vector{Vector}\n",
    "    Xref - trajectory we want to track  Vector{Vector}\n",
    "    Uref - control we want to track     Vector{Vector}\n",
    "\n",
    "We will perform the backwards recursion without any regularization. Store the expected cost \n",
    "decrease in ΔJ and return the following \n",
    "    d - feedforward control             Vector{Vector}\n",
    "    K - feedback gain matrices          Vector{Matrix}\n",
    "    P - cost to go quadratic term       Vector{Matrix}\n",
    "    ΔJ - expected cost decrease         Float\n",
    "\"\"\"\n",
    "\n",
    "function backward_pass(X,U,Xref,Uref)\n",
    "\n",
    "    # allocate all our data\n",
    "    P = [zeros(nx,nx) for i = 1:N]     # cost to go quadratic term\n",
    "    p = [zeros(nx) for i = 1:N]        # cost to go linear term \n",
    "    d = [zeros(nu)*NaN for i = 1:N-1]  # feedforward control\n",
    "    K = [zeros(nu,nx) for i = 1:N-1]   # feedback gain\n",
    "    ΔJ = 0                             # expected cost decrease\n",
    "    Ww = 0*X[2:end]\n",
    "    P[N], p[N] = term_cost_expansion(X[end],Xref[end])\n",
    "    for k = 1:N-1\n",
    "        i = N-k\n",
    "        Jxx,Jx,Juu,Ju = stage_cost_expansion(X[i],U[i],Xref[i],Uref[i])\n",
    "        A,B,Bw = dynamics_jacobians(X[i],U[i],Ww[i],dt)\n",
    "        gx = Jx + A'*p[i+1]\n",
    "        gu = Ju + B'*p[i+1]\n",
    "        Gxx = Jxx + A'*P[i+1]*A\n",
    "        Guu = Juu + B'*P[i+1]*B\n",
    "        Gxu = A'*P[i+1]*B\n",
    "        d[i] = Guu\\gu\n",
    "        K[i] = Guu\\Gxu'\n",
    "        P[i] = Gxx + K[i]'*Guu*K[i] - Gxu*K[i]-K[i]'*Gxu'\n",
    "        p[i] = gx - K[i]'*gu + K[i]'*Guu*d[i]-Gxu*d[i]\n",
    "        ΔJ = ΔJ + gu'*d[i]\n",
    "    end\n",
    "    return d, K, P, ΔJ\n",
    "end"
   ]
  },
  {
   "cell_type": "code",
   "execution_count": 7,
   "metadata": {},
   "outputs": [
    {
     "data": {
      "text/plain": [
       "backward_pass_MHE (generic function with 1 method)"
      ]
     },
     "execution_count": 7,
     "metadata": {},
     "output_type": "execute_result"
    }
   ],
   "source": [
    "\"\"\"\n",
    "backward pass for iLQR-MHE. Inputs are \n",
    "    X - current trajectory              Vector{Vector}\n",
    "    U - current control                 Vector{Vector}\n",
    "    y - measurements we want to track   Vector{Vector}\n",
    "    Uref - control we want to track     Vector{Vector}\n",
    "\n",
    "We will perform the backwards recursion without any regularization. Store the expected cost \n",
    "decrease in ΔJ and return the following \n",
    "    d - feedforward control             Vector{Vector}\n",
    "    K - feedback gain matrices          Vector{Matrix}\n",
    "    P - cost to go quadratic term       Vector{Matrix}\n",
    "    ΔJ - expected cost decrease         Float\n",
    "\"\"\"\n",
    "\n",
    "function backward_pass_MHE(X,U,Ww,y)\n",
    "\n",
    "    # allocate all our data\n",
    "    P = [zeros(nx,nx) for i = 1:N]     # cost to go quadratic term\n",
    "    p = [zeros(nx) for i = 1:N]        # cost to go linear term \n",
    "    d = [zeros(nu)*NaN for i = 1:N-1]  # feedforward control\n",
    "    K = [zeros(nu,nx) for i = 1:N-1]   # feedback gain\n",
    "    ΔJ = 0                             # expected cost decrease\n",
    "    P[N], p[N] = term_cost_expansion_MHE(X[end],y[end])\n",
    "    for k = 1:N-1\n",
    "        i = N-k\n",
    "        Jxx,Jx,Juu,Ju = stage_cost_expansion_MHE(X[i],Ww[i],y[i])\n",
    "        A,B,Bw = dynamics_jacobians(X[i],U[i],Ww[i],dt)\n",
    "        gx = Jx + A'*p[i+1]\n",
    "        gu = Ju + Bw'*p[i+1]\n",
    "        Gxx = Jxx + A'*P[i+1]*A\n",
    "        Guu = Juu + Bw'*P[i+1]*Bw\n",
    "        Gxu = A'*P[i+1]*Bw\n",
    "        d[i] = Guu\\gu\n",
    "        K[i] = Guu\\Gxu'\n",
    "        P[i] = Gxx + K[i]'*Guu*K[i] - Gxu*K[i]-K[i]'*Gxu'\n",
    "        p[i] = gx - K[i]'*gu + K[i]'*Guu*d[i]-Gxu*d[i]\n",
    "        ΔJ = ΔJ + gu'*d[i]\n",
    "    end\n",
    "    return d, K, P, ΔJ\n",
    "end"
   ]
  },
  {
   "cell_type": "markdown",
   "metadata": {},
   "source": [
    "## Forward Pass (10 pts)\n",
    "Next we will build out forward pass function. This is where we do a forward simulation with the new `d` and `K`'s from the backwards pass, and do a backtracking line search on $\\alpha$ to ensure we see a neccessary decrease. During our linesearch, we accept our new trajectory/control if the following Armijo condition is satsified:\n",
    "\n",
    "$$ J_n < J - 0.01\\alpha\\Delta J$$"
   ]
  },
  {
   "cell_type": "code",
   "execution_count": 8,
   "metadata": {},
   "outputs": [
    {
     "data": {
      "text/plain": [
       "rollout_MHE (generic function with 1 method)"
      ]
     },
     "execution_count": 8,
     "metadata": {},
     "output_type": "execute_result"
    }
   ],
   "source": [
    "function forward_pass(X,U,Xref,Uref,K,d,ΔJ; max_linesearch_iters = 10)\n",
    "    \n",
    "    Xn = deepcopy(X)\n",
    "    Un = deepcopy(U)\n",
    "    Ww = 0*X[2:end]\n",
    "    Jn = NaN\n",
    "    J = trajectory_cost(X,U,Xref,Uref)\n",
    "    α = 1\n",
    "    for i=1:max_linesearch_iters\n",
    "        Xn,Un = rollout(X,U,Ww,d,K,α)\n",
    "        Jn = trajectory_cost(Xn,Un,Xref,Uref)\n",
    "        if Jn < J -0.01*α*ΔJ\n",
    "            break\n",
    "        end\n",
    "        α = α*0.5\n",
    "    end\n",
    "\n",
    "        \n",
    "    return Xn, Un, Jn, α\n",
    "end\n",
    "\n",
    "function forward_pass_MHE(X,U,Ww,y,K,d,ΔJ; max_linesearch_iters = 10)\n",
    "    J = trajectory_cost_MHE(X,Ww,y)\n",
    "    Xn = deepcopy(X)\n",
    "    Wn = 0*X[2:end]\n",
    "    Jn = NaN\n",
    "    α = 1\n",
    "    for i=1:max_linesearch_iters\n",
    "        Xn,Wn = rollout_MHE(X,U,Ww,d,K,α)\n",
    "        Jn = trajectory_cost_MHE(Xn,Wn,y)\n",
    "        if Jn < J -0.01*α*ΔJ\n",
    "            break\n",
    "        end\n",
    "        α = α*0.5\n",
    "    end\n",
    "\n",
    "        \n",
    "    return Xn, Wn, Jn, α\n",
    "end\n",
    "\n",
    "function rollout(X,U,Ww,d,K,α)\n",
    "    Xn = deepcopy(X)\n",
    "    Un = deepcopy(U)\n",
    "    for i = 1:N-1\n",
    "        Un[i] = U[i] -α*d[i] - K[i]*(Xn[i]-X[i])\n",
    "        Xn[i+1] = rk4(Xn[i],Un[i],Ww[i],dt)\n",
    "    end\n",
    "   return Xn, Un \n",
    "end\n",
    "\n",
    "function rollout_MHE(X,U,Ww,d,K,α)\n",
    "    Xn = deepcopy(X)\n",
    "    Wn = deepcopy(Ww)\n",
    "    for i = 1:N-1\n",
    "        Wn[i] = Ww[i] -α*d[i] - K[i]*(Xn[i]-X[i])\n",
    "        Xn[i+1] = rk4(Xn[i],U[i],Wn[i],dt)\n",
    "    end\n",
    "   return Xn, Wn \n",
    "end"
   ]
  },
  {
   "cell_type": "markdown",
   "metadata": {},
   "source": [
    "## iLQR Algorithm (5 pts)\n",
    "Now we are going to put it all together, we are given an initial condition `x0` and an unitial control input history `U`, and a reference trajectory `Xref` and `Uref`. We will start by doing a forward simulation starting from `x0` using `U` as the control input, creating `X`. Then we will start our main loop. In each iteartion, we do the following:\n",
    "\n",
    "- backward pass \n",
    "- check termination criteria \n",
    "- forward pass \n"
   ]
  },
  {
   "cell_type": "code",
   "execution_count": 9,
   "metadata": {},
   "outputs": [
    {
     "data": {
      "text/plain": [
       "iLQR"
      ]
     },
     "execution_count": 9,
     "metadata": {},
     "output_type": "execute_result"
    }
   ],
   "source": [
    "\"\"\"\n",
    "iLQR will combine the backward and forward passes for the complete iLQR algorithm. We will classify \n",
    "convergence as when the maximum norm of each feedforward control input in d is below atol. (this is given)\n",
    "\n",
    "inputs:\n",
    "    x0 - initial condition Vector\n",
    "    U - initial control history Vector{Vector}\n",
    "    Xref - reference trajectory we are trying to track Vector{Vector}\n",
    "    Uref - reference controls we are trying to track Vector{Vector}\n",
    "\n",
    "outputs:\n",
    "    X - optimal trajectory Vector{Vector}\n",
    "    U - optimal control trajectory Vector{Vector}\n",
    "    K - feedback gain matrices Vector{Matrix}\n",
    "    P - cost to go hessians Vector{Matrix}\n",
    "    iter - iterations it took to converge Int\n",
    "\"\"\"\n",
    "function iLQR(x0,U,Xref,Uref;atol=1e-5,max_iters = 100,verbose = true)\n",
    "    \n",
    "    # inital logging stuff \n",
    "    if isautograder\n",
    "        verbose = false\n",
    "    end\n",
    "    if verbose\n",
    "        @printf \"iter     J           ΔJ        |d|         α\\n\"\n",
    "        @printf \"-----------------------------------------------\\n\"\n",
    "    end\n",
    "    X = [zeros(nx) for i = 1:N]\n",
    "    K = [zeros(nu,nx)*NaN for i = 1:N-1]\n",
    "    P = [zeros(nx,nx)*NaN for i = 1:N]\n",
    "    Ww = 0*X[2:end]\n",
    "    #initial rollout:\n",
    "    X[1] = x0\n",
    "    for i = 1:N-1\n",
    "        X[i+1] = rk4(X[i],U[i],Ww[i],dt)\n",
    "    end\n",
    "    iter = 0\n",
    "    for it = 1:max_iters\n",
    "        d, K, P, ΔJ = backward_pass(X,U,Xref,Uref)\n",
    "        X, U, Jr, α = forward_pass(X,U,Xref,Uref,K,d,ΔJ)\n",
    "        @printf(\"%i     %g     %g     %g     %g\\n\",it,Jr,ΔJ,norm(d,Inf),α)\n",
    "        if norm(d,Inf) < atol\n",
    "            iter = it\n",
    "            break\n",
    "        end\n",
    "    end\n",
    "\n",
    "    return X,U,K,P,iter\n",
    "\n",
    "end\n",
    "        "
   ]
  },
  {
   "cell_type": "code",
   "execution_count": 10,
   "metadata": {},
   "outputs": [
    {
     "data": {
      "text/plain": [
       "iLQR_MHE"
      ]
     },
     "execution_count": 10,
     "metadata": {},
     "output_type": "execute_result"
    }
   ],
   "source": [
    "\"\"\"\n",
    "iLQR will combine the backward and forward passes for the complete iLQR algorithm. We will classify \n",
    "convergence as when the maximum norm of each feedforward control input in d is below atol. (this is given)\n",
    "\n",
    "inputs:\n",
    "    x0 - initial condition Vector\n",
    "    U - initial control history Vector{Vector}\n",
    "    Xref - reference trajectory we are trying to track Vector{Vector}\n",
    "    Uref - reference controls we are trying to track Vector{Vector}\n",
    "\n",
    "outputs:\n",
    "    X - optimal trajectory Vector{Vector}\n",
    "    U - optimal control trajectory Vector{Vector}\n",
    "    K - feedback gain matrices Vector{Matrix}\n",
    "    P - cost to go hessians Vector{Matrix}\n",
    "    iter - iterations it took to converge Int\n",
    "\"\"\"\n",
    "function iLQR_MHE(x0,U,Ww,y;atol=1e-5,max_iters = 1000,verbose = true)\n",
    "    # inital logging stuff \n",
    "    if isautograder\n",
    "        verbose = false\n",
    "    end\n",
    "    if verbose\n",
    "        @printf \"iter     J           ΔJ        |d|         α\\n\"\n",
    "        @printf \"-----------------------------------------------\\n\"\n",
    "    end\n",
    "    X = [zeros(nx) for i = 1:N]\n",
    "    K = [zeros(nu,nx)*NaN for i = 1:N-1]\n",
    "    P = [zeros(nx,nx)*NaN for i = 1:N]\n",
    "    #initial rollout:\n",
    "    X[1] = x0\n",
    "    for i = 1:N-1\n",
    "        X[i+1] = rk4(X[i],U[i],Ww[i],dt)\n",
    "    end\n",
    "    iter = 0\n",
    "    for it = 1:max_iters\n",
    "        d, K, P, ΔJ = backward_pass_MHE(X,U,Ww,y)\n",
    "        X, Ww, Jr, α = forward_pass_MHE(X,U,Ww,y,K,d,ΔJ)\n",
    "        @printf(\"%i     %g     %g     %g     %g\\n\",it,Jr,ΔJ,norm(d,Inf),α)\n",
    "        if norm(d,Inf) < atol\n",
    "            iter = it\n",
    "            break\n",
    "        end\n",
    "    end\n",
    "\n",
    "    return X,Ww,K,P,iter\n",
    "\n",
    "end\n",
    "        "
   ]
  },
  {
   "cell_type": "markdown",
   "metadata": {},
   "source": [
    "## Part (b): Simple trajectory (5 pts)\n",
    "Use your iLQR solver to move the quadrotor from the initial state to the goal state."
   ]
  },
  {
   "cell_type": "code",
   "execution_count": 11,
   "metadata": {},
   "outputs": [
    {
     "name": "stdout",
     "output_type": "stream",
     "text": [
      "iter     J           ΔJ        |d|         α\n",
      "-----------------------------------------------\n",
      "1     757.213     4553.33     72.1502     1\n",
      "2     555.222     578.923     45.3419     1\n",
      "3     490.772     161.521     27.7264     1\n",
      "4     482.318     25.9749     16.8509     1\n",
      "5     479.807     7.97411     7.99553     1\n",
      "6     479.135     2.57428     4.85616     1\n",
      "7     478.892     1.07338     2.94953     1\n",
      "8     478.808     0.447232     1.91711     1\n",
      "9     478.769     0.215598     1.29632     1\n",
      "10     478.753     0.0994692     0.851113     1\n",
      "11     478.746     0.0495488     0.614287     1\n",
      "12     478.742     0.0238152     0.412177     1\n",
      "13     478.74     0.0118875     0.298889     1\n",
      "14     478.739     0.0058088     0.205377     1\n",
      "15     478.739     0.0028911     0.146808     1\n",
      "16     478.739     0.0014226     0.10203     1\n",
      "17     478.739     0.000706299     0.0723853     1\n",
      "18     478.739     0.000348613     0.0505969     1\n",
      "19     478.739     0.000172823     0.0357541     1\n",
      "20     478.739     8.54225e-05     0.0250672     1\n",
      "21     478.739     4.23134e-05     0.0176766     1\n",
      "22     478.739     2.09286e-05     0.0124129     1\n",
      "23     478.739     1.03624e-05     0.00874351     1\n",
      "24     478.739     5.12701e-06     0.00614512     1\n",
      "25     478.739     2.53801e-06     0.004326     1\n",
      "26     478.739     1.25593e-06     0.0030418     1\n",
      "27     478.739     6.21652e-07     0.00214068     1\n",
      "28     478.739     3.07646e-07     0.00150557     1\n",
      "29     478.739     1.52269e-07     0.00105938     1\n",
      "30     478.739     7.53586e-08     0.00074517     1\n",
      "31     478.739     3.72976e-08     0.000524283     1\n",
      "32     478.739     1.84591e-08     0.000368809     1\n",
      "33     478.739     9.13593e-09     0.000259473     1\n",
      "34     478.739     4.52154e-09     0.000182534     1\n",
      "35     478.739     2.23783e-09     0.000128418     1\n",
      "36     478.739     1.10754e-09     9.03407e-05     1\n",
      "37     478.739     5.4815e-10     6.35562e-05     1\n",
      "38     478.739     2.71291e-10     4.47118e-05     1\n",
      "39     478.739     1.34268e-10     3.14553e-05     1\n",
      "40     478.739     6.64522e-11     2.21289e-05     1\n",
      "41     478.739     3.28887e-11     1.55679e-05     1\n",
      "42     478.739     1.62773e-11     1.09521e-05     1\n",
      "43     478.739     8.05602e-12     7.70489e-06     1\n"
     ]
    }
   ],
   "source": [
    "# reference trajectory (we just want to track the goal state and hover control)\n",
    "Xrefline = [copy(xgoal) for i = 1:N]\n",
    "Urefline = [copy(uhover) for i = 1:N-1]\n",
    "\n",
    "# call iLQR\n",
    "Xline,Uline,Kline,Pline, iterline = iLQR(x0,Urefline,Xrefline,Urefline);"
   ]
  },
  {
   "cell_type": "code",
   "execution_count": 12,
   "metadata": {},
   "outputs": [],
   "source": [
    "if false\n",
    "    vis = Visualizer()\n",
    "    set_mesh!(vis, model)\n",
    "    render(vis)\n",
    "    visualize!(vis, model, dt*(N-1), Xline)\n",
    "end\n"
   ]
  },
  {
   "cell_type": "markdown",
   "metadata": {},
   "source": [
    "## Simulate With Noise"
   ]
  },
  {
   "cell_type": "code",
   "execution_count": 13,
   "metadata": {},
   "outputs": [
    {
     "data": {
      "text/plain": [
       "noisySim (generic function with 1 method)"
      ]
     },
     "execution_count": 13,
     "metadata": {},
     "output_type": "execute_result"
    }
   ],
   "source": [
    "function noisySim(X,U)\n",
    "    rng = MersenneTwister(1234);\n",
    "    Xn = deepcopy(X)\n",
    "    Un = deepcopy(U)\n",
    "    Ww = 0*X[2:end]\n",
    "    Yn = [zeros(size(V,1))*NaN for i = 1:N]\n",
    "    Yn[1] = C*Xn[1];\n",
    "    for i = 1:N-1\n",
    "        Ww[i] = sqrt(W)*randn((size(Ww[i])))\n",
    "        Xn[i+1] = rk4(Xn[i],U[i],Ww[i],dt)\n",
    "        Yn[i+1] = C*Xn[i+1] + sqrt(V)*randn((size(Yn[i+1])))\n",
    "    end\n",
    "   return Xn, Yn\n",
    "\n",
    "end"
   ]
  },
  {
   "cell_type": "code",
   "execution_count": 17,
   "metadata": {},
   "outputs": [],
   "source": [
    "Xnoisy, Ynoisy = noisySim(Xline,Uline);"
   ]
  },
  {
   "cell_type": "markdown",
   "metadata": {},
   "source": [
    "## Estimate the Trajectory"
   ]
  },
  {
   "cell_type": "code",
   "execution_count": 18,
   "metadata": {},
   "outputs": [
    {
     "name": "stdout",
     "output_type": "stream",
     "text": [
      "iter     J           ΔJ        |d|         α\n",
      "-----------------------------------------------\n",
      "1     85.9381     5.76381     0.108804     1\n",
      "2     85.9377     0.000760182     0.00136068     1\n",
      "3     85.9377     1.77039e-07     1.99638e-05     1\n",
      "4     85.9377     4.85817e-11     3.32834e-07     1\n"
     ]
    }
   ],
   "source": [
    "Ww = 0*Xline[2:end]\n",
    "Xest,West,K,P,iter = iLQR_MHE(Xline[1],Uline,Ww,Ynoisy);"
   ]
  },
  {
   "cell_type": "code",
   "execution_count": 19,
   "metadata": {},
   "outputs": [
    {
     "data": {
      "image/svg+xml": [
       "<?xml version=\"1.0\" encoding=\"utf-8\"?>\n",
       "<svg xmlns=\"http://www.w3.org/2000/svg\" xmlns:xlink=\"http://www.w3.org/1999/xlink\" width=\"600\" height=\"400\" viewBox=\"0 0 2400 1600\">\n",
       "<defs>\n",
       "  <clipPath id=\"clip050\">\n",
       "    <rect x=\"0\" y=\"0\" width=\"2400\" height=\"1600\"/>\n",
       "  </clipPath>\n",
       "</defs>\n",
       "<path clip-path=\"url(#clip050)\" d=\"\n",
       "M0 1600 L2400 1600 L2400 0 L0 0  Z\n",
       "  \" fill=\"#ffffff\" fill-rule=\"evenodd\" fill-opacity=\"1\"/>\n",
       "<defs>\n",
       "  <clipPath id=\"clip051\">\n",
       "    <rect x=\"480\" y=\"0\" width=\"1681\" height=\"1600\"/>\n",
       "  </clipPath>\n",
       "</defs>\n",
       "<path clip-path=\"url(#clip050)\" d=\"\n",
       "M217.297 1423.18 L2352.76 1423.18 L2352.76 47.2441 L217.297 47.2441  Z\n",
       "  \" fill=\"#ffffff\" fill-rule=\"evenodd\" fill-opacity=\"1\"/>\n",
       "<defs>\n",
       "  <clipPath id=\"clip052\">\n",
       "    <rect x=\"217\" y=\"47\" width=\"2136\" height=\"1377\"/>\n",
       "  </clipPath>\n",
       "</defs>\n",
       "<polyline clip-path=\"url(#clip052)\" style=\"stroke:#000000; stroke-linecap:butt; stroke-linejoin:round; stroke-width:2; stroke-opacity:0.1; fill:none\" points=\"\n",
       "  277.774,1423.18 277.774,47.2441 \n",
       "  \"/>\n",
       "<polyline clip-path=\"url(#clip052)\" style=\"stroke:#000000; stroke-linecap:butt; stroke-linejoin:round; stroke-width:2; stroke-opacity:0.1; fill:none\" points=\"\n",
       "  615.672,1423.18 615.672,47.2441 \n",
       "  \"/>\n",
       "<polyline clip-path=\"url(#clip052)\" style=\"stroke:#000000; stroke-linecap:butt; stroke-linejoin:round; stroke-width:2; stroke-opacity:0.1; fill:none\" points=\"\n",
       "  953.57,1423.18 953.57,47.2441 \n",
       "  \"/>\n",
       "<polyline clip-path=\"url(#clip052)\" style=\"stroke:#000000; stroke-linecap:butt; stroke-linejoin:round; stroke-width:2; stroke-opacity:0.1; fill:none\" points=\"\n",
       "  1291.47,1423.18 1291.47,47.2441 \n",
       "  \"/>\n",
       "<polyline clip-path=\"url(#clip052)\" style=\"stroke:#000000; stroke-linecap:butt; stroke-linejoin:round; stroke-width:2; stroke-opacity:0.1; fill:none\" points=\"\n",
       "  1629.37,1423.18 1629.37,47.2441 \n",
       "  \"/>\n",
       "<polyline clip-path=\"url(#clip052)\" style=\"stroke:#000000; stroke-linecap:butt; stroke-linejoin:round; stroke-width:2; stroke-opacity:0.1; fill:none\" points=\"\n",
       "  1967.26,1423.18 1967.26,47.2441 \n",
       "  \"/>\n",
       "<polyline clip-path=\"url(#clip052)\" style=\"stroke:#000000; stroke-linecap:butt; stroke-linejoin:round; stroke-width:2; stroke-opacity:0.1; fill:none\" points=\"\n",
       "  2305.16,1423.18 2305.16,47.2441 \n",
       "  \"/>\n",
       "<polyline clip-path=\"url(#clip050)\" style=\"stroke:#000000; stroke-linecap:butt; stroke-linejoin:round; stroke-width:4; stroke-opacity:1; fill:none\" points=\"\n",
       "  217.297,1423.18 2352.76,1423.18 \n",
       "  \"/>\n",
       "<polyline clip-path=\"url(#clip050)\" style=\"stroke:#000000; stroke-linecap:butt; stroke-linejoin:round; stroke-width:4; stroke-opacity:1; fill:none\" points=\"\n",
       "  277.774,1423.18 277.774,1404.28 \n",
       "  \"/>\n",
       "<polyline clip-path=\"url(#clip050)\" style=\"stroke:#000000; stroke-linecap:butt; stroke-linejoin:round; stroke-width:4; stroke-opacity:1; fill:none\" points=\"\n",
       "  615.672,1423.18 615.672,1404.28 \n",
       "  \"/>\n",
       "<polyline clip-path=\"url(#clip050)\" style=\"stroke:#000000; stroke-linecap:butt; stroke-linejoin:round; stroke-width:4; stroke-opacity:1; fill:none\" points=\"\n",
       "  953.57,1423.18 953.57,1404.28 \n",
       "  \"/>\n",
       "<polyline clip-path=\"url(#clip050)\" style=\"stroke:#000000; stroke-linecap:butt; stroke-linejoin:round; stroke-width:4; stroke-opacity:1; fill:none\" points=\"\n",
       "  1291.47,1423.18 1291.47,1404.28 \n",
       "  \"/>\n",
       "<polyline clip-path=\"url(#clip050)\" style=\"stroke:#000000; stroke-linecap:butt; stroke-linejoin:round; stroke-width:4; stroke-opacity:1; fill:none\" points=\"\n",
       "  1629.37,1423.18 1629.37,1404.28 \n",
       "  \"/>\n",
       "<polyline clip-path=\"url(#clip050)\" style=\"stroke:#000000; stroke-linecap:butt; stroke-linejoin:round; stroke-width:4; stroke-opacity:1; fill:none\" points=\"\n",
       "  1967.26,1423.18 1967.26,1404.28 \n",
       "  \"/>\n",
       "<polyline clip-path=\"url(#clip050)\" style=\"stroke:#000000; stroke-linecap:butt; stroke-linejoin:round; stroke-width:4; stroke-opacity:1; fill:none\" points=\"\n",
       "  2305.16,1423.18 2305.16,1404.28 \n",
       "  \"/>\n",
       "<path clip-path=\"url(#clip050)\" d=\"M247.242 1468.75 L276.918 1468.75 L276.918 1472.69 L247.242 1472.69 L247.242 1468.75 Z\" fill=\"#000000\" fill-rule=\"evenodd\" fill-opacity=\"1\" /><path clip-path=\"url(#clip050)\" d=\"M301.177 1466.95 Q304.533 1467.66 306.408 1469.93 Q308.307 1472.2 308.307 1475.53 Q308.307 1480.65 304.788 1483.45 Q301.27 1486.25 294.788 1486.25 Q292.612 1486.25 290.297 1485.81 Q288.006 1485.39 285.552 1484.54 L285.552 1480.02 Q287.496 1481.16 289.811 1481.74 Q292.126 1482.32 294.649 1482.32 Q299.047 1482.32 301.339 1480.58 Q303.654 1478.84 303.654 1475.53 Q303.654 1472.48 301.501 1470.77 Q299.371 1469.03 295.552 1469.03 L291.524 1469.03 L291.524 1465.19 L295.737 1465.19 Q299.186 1465.19 301.015 1463.82 Q302.844 1462.43 302.844 1459.84 Q302.844 1457.18 300.945 1455.77 Q299.07 1454.33 295.552 1454.33 Q293.631 1454.33 291.432 1454.75 Q289.233 1455.16 286.594 1456.04 L286.594 1451.88 Q289.256 1451.14 291.57 1450.77 Q293.908 1450.39 295.969 1450.39 Q301.293 1450.39 304.394 1452.83 Q307.496 1455.23 307.496 1459.35 Q307.496 1462.22 305.853 1464.21 Q304.209 1466.18 301.177 1466.95 Z\" fill=\"#000000\" fill-rule=\"evenodd\" fill-opacity=\"1\" /><path clip-path=\"url(#clip050)\" d=\"M585.614 1468.75 L615.29 1468.75 L615.29 1472.69 L585.614 1472.69 L585.614 1468.75 Z\" fill=\"#000000\" fill-rule=\"evenodd\" fill-opacity=\"1\" /><path clip-path=\"url(#clip050)\" d=\"M629.41 1481.64 L645.73 1481.64 L645.73 1485.58 L623.785 1485.58 L623.785 1481.64 Q626.447 1478.89 631.031 1474.26 Q635.637 1469.61 636.818 1468.27 Q639.063 1465.74 639.943 1464.01 Q640.845 1462.25 640.845 1460.56 Q640.845 1457.8 638.901 1456.07 Q636.98 1454.33 633.878 1454.33 Q631.679 1454.33 629.225 1455.09 Q626.795 1455.86 624.017 1457.41 L624.017 1452.69 Q626.841 1451.55 629.295 1450.97 Q631.748 1450.39 633.785 1450.39 Q639.156 1450.39 642.35 1453.08 Q645.544 1455.77 645.544 1460.26 Q645.544 1462.39 644.734 1464.31 Q643.947 1466.2 641.841 1468.8 Q641.262 1469.47 638.16 1472.69 Q635.058 1475.88 629.41 1481.64 Z\" fill=\"#000000\" fill-rule=\"evenodd\" fill-opacity=\"1\" /><path clip-path=\"url(#clip050)\" d=\"M923.327 1468.75 L953.003 1468.75 L953.003 1472.69 L923.327 1472.69 L923.327 1468.75 Z\" fill=\"#000000\" fill-rule=\"evenodd\" fill-opacity=\"1\" /><path clip-path=\"url(#clip050)\" d=\"M963.905 1481.64 L971.544 1481.64 L971.544 1455.28 L963.234 1456.95 L963.234 1452.69 L971.498 1451.02 L976.174 1451.02 L976.174 1481.64 L983.813 1481.64 L983.813 1485.58 L963.905 1485.58 L963.905 1481.64 Z\" fill=\"#000000\" fill-rule=\"evenodd\" fill-opacity=\"1\" /><path clip-path=\"url(#clip050)\" d=\"M1291.47 1454.1 Q1287.86 1454.1 1286.03 1457.66 Q1284.22 1461.2 1284.22 1468.33 Q1284.22 1475.44 1286.03 1479.01 Q1287.86 1482.55 1291.47 1482.55 Q1295.1 1482.55 1296.91 1479.01 Q1298.74 1475.44 1298.74 1468.33 Q1298.74 1461.2 1296.91 1457.66 Q1295.1 1454.1 1291.47 1454.1 M1291.47 1450.39 Q1297.28 1450.39 1300.33 1455 Q1303.41 1459.58 1303.41 1468.33 Q1303.41 1477.06 1300.33 1481.67 Q1297.28 1486.25 1291.47 1486.25 Q1285.66 1486.25 1282.58 1481.67 Q1279.52 1477.06 1279.52 1468.33 Q1279.52 1459.58 1282.58 1455 Q1285.66 1450.39 1291.47 1450.39 Z\" fill=\"#000000\" fill-rule=\"evenodd\" fill-opacity=\"1\" /><path clip-path=\"url(#clip050)\" d=\"M1619.75 1481.64 L1627.39 1481.64 L1627.39 1455.28 L1619.08 1456.95 L1619.08 1452.69 L1627.34 1451.02 L1632.02 1451.02 L1632.02 1481.64 L1639.65 1481.64 L1639.65 1485.58 L1619.75 1485.58 L1619.75 1481.64 Z\" fill=\"#000000\" fill-rule=\"evenodd\" fill-opacity=\"1\" /><path clip-path=\"url(#clip050)\" d=\"M1961.92 1481.64 L1978.23 1481.64 L1978.23 1485.58 L1956.29 1485.58 L1956.29 1481.64 Q1958.95 1478.89 1963.54 1474.26 Q1968.14 1469.61 1969.32 1468.27 Q1971.57 1465.74 1972.45 1464.01 Q1973.35 1462.25 1973.35 1460.56 Q1973.35 1457.8 1971.41 1456.07 Q1969.48 1454.33 1966.38 1454.33 Q1964.18 1454.33 1961.73 1455.09 Q1959.3 1455.86 1956.52 1457.41 L1956.52 1452.69 Q1959.35 1451.55 1961.8 1450.97 Q1964.25 1450.39 1966.29 1450.39 Q1971.66 1450.39 1974.86 1453.08 Q1978.05 1455.77 1978.05 1460.26 Q1978.05 1462.39 1977.24 1464.31 Q1976.45 1466.2 1974.35 1468.8 Q1973.77 1469.47 1970.67 1472.69 Q1967.56 1475.88 1961.92 1481.64 Z\" fill=\"#000000\" fill-rule=\"evenodd\" fill-opacity=\"1\" /><path clip-path=\"url(#clip050)\" d=\"M2309.41 1466.95 Q2312.76 1467.66 2314.64 1469.93 Q2316.54 1472.2 2316.54 1475.53 Q2316.54 1480.65 2313.02 1483.45 Q2309.5 1486.25 2303.02 1486.25 Q2300.84 1486.25 2298.53 1485.81 Q2296.24 1485.39 2293.78 1484.54 L2293.78 1480.02 Q2295.73 1481.16 2298.04 1481.74 Q2300.36 1482.32 2302.88 1482.32 Q2307.28 1482.32 2309.57 1480.58 Q2311.88 1478.84 2311.88 1475.53 Q2311.88 1472.48 2309.73 1470.77 Q2307.6 1469.03 2303.78 1469.03 L2299.76 1469.03 L2299.76 1465.19 L2303.97 1465.19 Q2307.42 1465.19 2309.25 1463.82 Q2311.07 1462.43 2311.07 1459.84 Q2311.07 1457.18 2309.18 1455.77 Q2307.3 1454.33 2303.78 1454.33 Q2301.86 1454.33 2299.66 1454.75 Q2297.46 1455.16 2294.82 1456.04 L2294.82 1451.88 Q2297.49 1451.14 2299.8 1450.77 Q2302.14 1450.39 2304.2 1450.39 Q2309.52 1450.39 2312.63 1452.83 Q2315.73 1455.23 2315.73 1459.35 Q2315.73 1462.22 2314.08 1464.21 Q2312.44 1466.18 2309.41 1466.95 Z\" fill=\"#000000\" fill-rule=\"evenodd\" fill-opacity=\"1\" /><path clip-path=\"url(#clip050)\" d=\"M1301.64 1532.4 L1288.75 1549.74 L1302.31 1568.04 L1295.4 1568.04 L1285.03 1554.04 L1274.65 1568.04 L1267.74 1568.04 L1281.59 1549.39 L1268.92 1532.4 L1275.83 1532.4 L1285.28 1545.1 L1294.73 1532.4 L1301.64 1532.4 Z\" fill=\"#000000\" fill-rule=\"evenodd\" fill-opacity=\"1\" /><polyline clip-path=\"url(#clip052)\" style=\"stroke:#000000; stroke-linecap:butt; stroke-linejoin:round; stroke-width:2; stroke-opacity:0.1; fill:none\" points=\"\n",
       "  217.297,1272.75 2352.76,1272.75 \n",
       "  \"/>\n",
       "<polyline clip-path=\"url(#clip052)\" style=\"stroke:#000000; stroke-linecap:butt; stroke-linejoin:round; stroke-width:2; stroke-opacity:0.1; fill:none\" points=\"\n",
       "  217.297,961.567 2352.76,961.567 \n",
       "  \"/>\n",
       "<polyline clip-path=\"url(#clip052)\" style=\"stroke:#000000; stroke-linecap:butt; stroke-linejoin:round; stroke-width:2; stroke-opacity:0.1; fill:none\" points=\"\n",
       "  217.297,650.384 2352.76,650.384 \n",
       "  \"/>\n",
       "<polyline clip-path=\"url(#clip052)\" style=\"stroke:#000000; stroke-linecap:butt; stroke-linejoin:round; stroke-width:2; stroke-opacity:0.1; fill:none\" points=\"\n",
       "  217.297,339.202 2352.76,339.202 \n",
       "  \"/>\n",
       "<polyline clip-path=\"url(#clip050)\" style=\"stroke:#000000; stroke-linecap:butt; stroke-linejoin:round; stroke-width:4; stroke-opacity:1; fill:none\" points=\"\n",
       "  217.297,1423.18 217.297,47.2441 \n",
       "  \"/>\n",
       "<polyline clip-path=\"url(#clip050)\" style=\"stroke:#000000; stroke-linecap:butt; stroke-linejoin:round; stroke-width:4; stroke-opacity:1; fill:none\" points=\"\n",
       "  217.297,1272.75 236.194,1272.75 \n",
       "  \"/>\n",
       "<polyline clip-path=\"url(#clip050)\" style=\"stroke:#000000; stroke-linecap:butt; stroke-linejoin:round; stroke-width:4; stroke-opacity:1; fill:none\" points=\"\n",
       "  217.297,961.567 236.194,961.567 \n",
       "  \"/>\n",
       "<polyline clip-path=\"url(#clip050)\" style=\"stroke:#000000; stroke-linecap:butt; stroke-linejoin:round; stroke-width:4; stroke-opacity:1; fill:none\" points=\"\n",
       "  217.297,650.384 236.194,650.384 \n",
       "  \"/>\n",
       "<polyline clip-path=\"url(#clip050)\" style=\"stroke:#000000; stroke-linecap:butt; stroke-linejoin:round; stroke-width:4; stroke-opacity:1; fill:none\" points=\"\n",
       "  217.297,339.202 236.194,339.202 \n",
       "  \"/>\n",
       "<path clip-path=\"url(#clip050)\" d=\"M114.931 1286.09 L122.57 1286.09 L122.57 1259.73 L114.26 1261.4 L114.26 1257.14 L122.524 1255.47 L127.2 1255.47 L127.2 1286.09 L134.839 1286.09 L134.839 1290.03 L114.931 1290.03 L114.931 1286.09 Z\" fill=\"#000000\" fill-rule=\"evenodd\" fill-opacity=\"1\" /><path clip-path=\"url(#clip050)\" d=\"M144.283 1284.15 L149.167 1284.15 L149.167 1290.03 L144.283 1290.03 L144.283 1284.15 Z\" fill=\"#000000\" fill-rule=\"evenodd\" fill-opacity=\"1\" /><path clip-path=\"url(#clip050)\" d=\"M169.352 1258.55 Q165.741 1258.55 163.913 1262.11 Q162.107 1265.65 162.107 1272.78 Q162.107 1279.89 163.913 1283.46 Q165.741 1287 169.352 1287 Q172.987 1287 174.792 1283.46 Q176.621 1279.89 176.621 1272.78 Q176.621 1265.65 174.792 1262.11 Q172.987 1258.55 169.352 1258.55 M169.352 1254.84 Q175.163 1254.84 178.218 1259.45 Q181.297 1264.03 181.297 1272.78 Q181.297 1281.51 178.218 1286.12 Q175.163 1290.7 169.352 1290.7 Q163.542 1290.7 160.464 1286.12 Q157.408 1281.51 157.408 1272.78 Q157.408 1264.03 160.464 1259.45 Q163.542 1254.84 169.352 1254.84 Z\" fill=\"#000000\" fill-rule=\"evenodd\" fill-opacity=\"1\" /><path clip-path=\"url(#clip050)\" d=\"M116.158 974.912 L123.797 974.912 L123.797 948.546 L115.487 950.213 L115.487 945.953 L123.751 944.287 L128.427 944.287 L128.427 974.912 L136.066 974.912 L136.066 978.847 L116.158 978.847 L116.158 974.912 Z\" fill=\"#000000\" fill-rule=\"evenodd\" fill-opacity=\"1\" /><path clip-path=\"url(#clip050)\" d=\"M145.51 972.967 L150.394 972.967 L150.394 978.847 L145.51 978.847 L145.51 972.967 Z\" fill=\"#000000\" fill-rule=\"evenodd\" fill-opacity=\"1\" /><path clip-path=\"url(#clip050)\" d=\"M161.39 974.912 L169.028 974.912 L169.028 948.546 L160.718 950.213 L160.718 945.953 L168.982 944.287 L173.658 944.287 L173.658 974.912 L181.297 974.912 L181.297 978.847 L161.39 978.847 L161.39 974.912 Z\" fill=\"#000000\" fill-rule=\"evenodd\" fill-opacity=\"1\" /><path clip-path=\"url(#clip050)\" d=\"M116.529 663.729 L124.168 663.729 L124.168 637.363 L115.857 639.03 L115.857 634.771 L124.121 633.104 L128.797 633.104 L128.797 663.729 L136.436 663.729 L136.436 667.664 L116.529 667.664 L116.529 663.729 Z\" fill=\"#000000\" fill-rule=\"evenodd\" fill-opacity=\"1\" /><path clip-path=\"url(#clip050)\" d=\"M145.88 661.785 L150.765 661.785 L150.765 667.664 L145.88 667.664 L145.88 661.785 Z\" fill=\"#000000\" fill-rule=\"evenodd\" fill-opacity=\"1\" /><path clip-path=\"url(#clip050)\" d=\"M164.977 663.729 L181.297 663.729 L181.297 667.664 L159.353 667.664 L159.353 663.729 Q162.015 660.974 166.598 656.345 Q171.204 651.692 172.385 650.35 Q174.63 647.826 175.51 646.09 Q176.413 644.331 176.413 642.641 Q176.413 639.887 174.468 638.151 Q172.547 636.414 169.445 636.414 Q167.246 636.414 164.792 637.178 Q162.362 637.942 159.584 639.493 L159.584 634.771 Q162.408 633.637 164.862 633.058 Q167.315 632.479 169.352 632.479 Q174.723 632.479 177.917 635.164 Q181.112 637.85 181.112 642.34 Q181.112 644.47 180.301 646.391 Q179.514 648.289 177.408 650.882 Q176.829 651.553 173.727 654.771 Q170.626 657.965 164.977 663.729 Z\" fill=\"#000000\" fill-rule=\"evenodd\" fill-opacity=\"1\" /><path clip-path=\"url(#clip050)\" d=\"M115.58 352.546 L123.218 352.546 L123.218 326.181 L114.908 327.848 L114.908 323.588 L123.172 321.922 L127.848 321.922 L127.848 352.546 L135.487 352.546 L135.487 356.482 L115.58 356.482 L115.58 352.546 Z\" fill=\"#000000\" fill-rule=\"evenodd\" fill-opacity=\"1\" /><path clip-path=\"url(#clip050)\" d=\"M144.931 350.602 L149.816 350.602 L149.816 356.482 L144.931 356.482 L144.931 350.602 Z\" fill=\"#000000\" fill-rule=\"evenodd\" fill-opacity=\"1\" /><path clip-path=\"url(#clip050)\" d=\"M174.167 337.847 Q177.524 338.565 179.399 340.834 Q181.297 343.102 181.297 346.435 Q181.297 351.551 177.778 354.352 Q174.26 357.153 167.778 357.153 Q165.602 357.153 163.288 356.713 Q160.996 356.296 158.542 355.44 L158.542 350.926 Q160.487 352.06 162.802 352.639 Q165.116 353.218 167.64 353.218 Q172.038 353.218 174.329 351.482 Q176.644 349.746 176.644 346.435 Q176.644 343.38 174.491 341.667 Q172.362 339.931 168.542 339.931 L164.515 339.931 L164.515 336.088 L168.727 336.088 Q172.177 336.088 174.005 334.723 Q175.834 333.334 175.834 330.741 Q175.834 328.079 173.936 326.667 Q172.061 325.232 168.542 325.232 Q166.621 325.232 164.422 325.648 Q162.223 326.065 159.584 326.945 L159.584 322.778 Q162.246 322.037 164.561 321.667 Q166.899 321.297 168.959 321.297 Q174.283 321.297 177.385 323.727 Q180.487 326.135 180.487 330.255 Q180.487 333.125 178.843 335.116 Q177.2 337.084 174.167 337.847 Z\" fill=\"#000000\" fill-rule=\"evenodd\" fill-opacity=\"1\" /><path clip-path=\"url(#clip050)\" d=\"M67.3143 733.525 Q73.68 736.008 75.6216 738.363 Q77.5631 740.718 77.5631 744.665 L77.5631 749.344 L72.6615 749.344 L72.6615 745.906 Q72.6615 743.487 71.5157 742.151 Q70.3699 740.814 66.1048 739.191 L63.4312 738.14 L28.3562 752.559 L28.3562 746.352 L56.238 735.212 L28.3562 724.072 L28.3562 717.865 L67.3143 733.525 Z\" fill=\"#000000\" fill-rule=\"evenodd\" fill-opacity=\"1\" /><polyline clip-path=\"url(#clip052)\" style=\"stroke:#009af9; stroke-linecap:butt; stroke-linejoin:round; stroke-width:4; stroke-opacity:1; fill:none\" points=\"\n",
       "  277.774,1272.75 277.735,1299.15 277.812,1351.83 280.278,1381.4 289.382,1362.07 308.354,1297.78 338.109,1203.06 377.844,1089.98 425.905,965.746 480.345,834.923 \n",
       "  539.247,701.7 600.932,571.073 664.079,448.828 727.764,340.86 791.431,252.353 854.815,187.153 917.856,147.46 980.615,133.761 1043.2,144.957 1105.73,178.585 \n",
       "  1168.25,231.134 1230.74,298.407 1293.1,375.914 1355.12,459.261 1416.54,544.472 1477.02,628.231 1536.21,707.993 1593.78,782.004 1649.41,849.222 1702.84,909.198 \n",
       "  1753.86,961.932 1802.3,1007.74 1848.07,1047.12 1891.11,1080.71 1931.41,1109.15 1968.99,1133.09 2003.91,1153.16 2036.23,1169.93 2066.05,1183.91 2093.45,1195.55 \n",
       "  2118.54,1205.24 2141.42,1213.33 2162.21,1220.09 2181,1225.74 2197.9,1230.46 2213.01,1234.35 2226.44,1237.5 2238.26,1239.94 2248.6,1241.66 2257.52,1242.64 \n",
       "  2265.14,1242.83 2271.54,1242.19 2276.84,1240.67 2281.12,1238.29 2284.5,1235.09 2287.09,1231.21 2289.01,1226.92 2290.38,1222.58 2291.32,1218.72 2291.94,1215.94 \n",
       "  2292.32,1214.7 \n",
       "  \"/>\n",
       "<polyline clip-path=\"url(#clip052)\" style=\"stroke:#e26f46; stroke-linecap:butt; stroke-linejoin:round; stroke-width:4; stroke-opacity:1; fill:none\" points=\"\n",
       "  277.774,1272.75 277.842,1298.12 278.187,1351.08 280.234,1384.24 289.611,1365.48 308.227,1296.63 337.386,1200.9 376.745,1082.36 424.432,956.924 478.104,824.138 \n",
       "  536.797,687.931 598.268,555.481 661.019,427.19 723.91,314.956 787.127,221.835 850.158,150.504 912.772,105.376 975.32,86.1857 1037.83,88.3753 1099.68,116.19 \n",
       "  1161.84,164.596 1223.76,225.995 1285.84,297.76 1347.61,375.388 1408.79,461.21 1468.31,541.627 1526.15,623.096 1583.22,694.915 1638.18,759.118 1691.02,816.012 \n",
       "  1740.67,868.507 1788.09,914.423 1833.12,946.219 1875.27,976.584 1914.71,1001.64 1951.55,1023.88 1985.65,1047.29 2017.35,1063.32 2045.93,1077.93 2071.71,1090.63 \n",
       "  2095.62,1105.25 2117.13,1117.33 2136.59,1127.56 2154.35,1138.72 2170.14,1150.96 2184.09,1161.76 2195.89,1172.15 2206.02,1185.06 2215.09,1196.81 2221.63,1203.38 \n",
       "  2227.32,1212.38 2231,1224.7 2233.87,1233.34 2235.19,1244.03 2235.72,1252.8 2235.36,1264.1 2234.14,1276.56 2232.35,1291.43 2229.7,1306.83 2226.65,1319.15 \n",
       "  2223.46,1331.48 \n",
       "  \"/>\n",
       "<polyline clip-path=\"url(#clip052)\" style=\"stroke:#3da44d; stroke-linecap:butt; stroke-linejoin:round; stroke-width:4; stroke-opacity:1; fill:none\" points=\"\n",
       "  277.774,1272.75 277.734,1299.15 277.799,1351.8 280.231,1381.28 289.266,1361.66 308.131,1296.71 337.742,1200.85 377.301,1086.09 425.155,959.723 479.36,826.353 \n",
       "  538,690.284 599.399,556.603 662.242,431.181 725.61,319.986 788.95,228.237 852.003,159.809 914.714,116.921 977.14,100.035 1039.39,108.05 1101.58,138.5 \n",
       "  1163.76,187.86 1225.89,251.93 1287.87,326.232 1349.5,406.402 1410.47,488.497 1470.47,569.252 1529.15,646.169 1586.14,717.55 1641.15,782.418 1693.89,840.374 \n",
       "  1744.16,891.479 1791.8,936.087 1836.71,974.749 1878.82,1008.11 1918.14,1036.84 1954.68,1061.62 1988.5,1083.07 2019.66,1101.76 2048.25,1118.21 2074.37,1132.87 \n",
       "  2098.11,1146.12 2119.6,1158.28 2138.92,1169.64 2156.18,1180.4 2171.49,1190.7 2184.95,1200.65 2196.65,1210.32 2206.7,1219.72 2215.17,1228.84 2222.17,1237.64 \n",
       "  2227.79,1246.05 2232.12,1254.01 2235.26,1261.47 2237.32,1268.4 2238.39,1274.84 2238.59,1280.89 2238.04,1286.77 2236.87,1292.83 2235.18,1299.54 2233.09,1307.47 \n",
       "  2230.68,1317.04 \n",
       "  \"/>\n",
       "<path clip-path=\"url(#clip050)\" d=\"\n",
       "M1925.04 300.469 L2281.57 300.469 L2281.57 93.1086 L1925.04 93.1086  Z\n",
       "  \" fill=\"#ffffff\" fill-rule=\"evenodd\" fill-opacity=\"1\"/>\n",
       "<polyline clip-path=\"url(#clip050)\" style=\"stroke:#000000; stroke-linecap:butt; stroke-linejoin:round; stroke-width:4; stroke-opacity:1; fill:none\" points=\"\n",
       "  1925.04,300.469 2281.57,300.469 2281.57,93.1086 1925.04,93.1086 1925.04,300.469 \n",
       "  \"/>\n",
       "<polyline clip-path=\"url(#clip050)\" style=\"stroke:#009af9; stroke-linecap:butt; stroke-linejoin:round; stroke-width:4; stroke-opacity:1; fill:none\" points=\"\n",
       "  1948.77,144.949 2091.13,144.949 \n",
       "  \"/>\n",
       "<path clip-path=\"url(#clip050)\" d=\"M2130.05 140.284 Q2129.33 139.868 2128.47 139.682 Q2127.64 139.474 2126.62 139.474 Q2123.01 139.474 2121.06 141.835 Q2119.14 144.173 2119.14 148.571 L2119.14 162.229 L2114.86 162.229 L2114.86 136.303 L2119.14 136.303 L2119.14 140.331 Q2120.49 137.969 2122.64 136.835 Q2124.79 135.678 2127.87 135.678 Q2128.31 135.678 2128.84 135.747 Q2129.37 135.794 2130.02 135.909 L2130.05 140.284 Z\" fill=\"#000000\" fill-rule=\"evenodd\" fill-opacity=\"1\" /><path clip-path=\"url(#clip050)\" d=\"M2155.65 148.201 L2155.65 150.284 L2136.06 150.284 Q2136.34 154.682 2138.7 156.997 Q2141.09 159.289 2145.32 159.289 Q2147.78 159.289 2150.07 158.687 Q2152.38 158.085 2154.65 156.881 L2154.65 160.909 Q2152.36 161.881 2149.95 162.391 Q2147.55 162.9 2145.07 162.9 Q2138.87 162.9 2135.23 159.289 Q2131.62 155.678 2131.62 149.52 Q2131.62 143.155 2135.05 139.428 Q2138.49 135.678 2144.33 135.678 Q2149.56 135.678 2152.59 139.057 Q2155.65 142.414 2155.65 148.201 M2151.39 146.951 Q2151.34 143.456 2149.42 141.372 Q2147.52 139.289 2144.37 139.289 Q2140.81 139.289 2138.66 141.303 Q2136.53 143.317 2136.2 146.974 L2151.39 146.951 Z\" fill=\"#000000\" fill-rule=\"evenodd\" fill-opacity=\"1\" /><path clip-path=\"url(#clip050)\" d=\"M2175.76 126.21 L2175.76 129.752 L2171.69 129.752 Q2169.4 129.752 2168.49 130.678 Q2167.62 131.604 2167.62 134.011 L2167.62 136.303 L2174.63 136.303 L2174.63 139.613 L2167.62 139.613 L2167.62 162.229 L2163.33 162.229 L2163.33 139.613 L2159.26 139.613 L2159.26 136.303 L2163.33 136.303 L2163.33 134.497 Q2163.33 130.169 2165.35 128.201 Q2167.36 126.21 2171.74 126.21 L2175.76 126.21 Z\" fill=\"#000000\" fill-rule=\"evenodd\" fill-opacity=\"1\" /><polyline clip-path=\"url(#clip050)\" style=\"stroke:#e26f46; stroke-linecap:butt; stroke-linejoin:round; stroke-width:4; stroke-opacity:1; fill:none\" points=\"\n",
       "  1948.77,196.789 2091.13,196.789 \n",
       "  \"/>\n",
       "<path clip-path=\"url(#clip050)\" d=\"M2136.57 198.421 L2136.57 214.069 L2132.31 214.069 L2132.31 198.559 Q2132.31 194.879 2130.88 193.05 Q2129.44 191.222 2126.57 191.222 Q2123.12 191.222 2121.13 193.421 Q2119.14 195.62 2119.14 199.416 L2119.14 214.069 L2114.86 214.069 L2114.86 188.143 L2119.14 188.143 L2119.14 192.171 Q2120.67 189.833 2122.73 188.675 Q2124.81 187.518 2127.52 187.518 Q2131.99 187.518 2134.28 190.296 Q2136.57 193.05 2136.57 198.421 Z\" fill=\"#000000\" fill-rule=\"evenodd\" fill-opacity=\"1\" /><path clip-path=\"url(#clip050)\" d=\"M2155.12 191.129 Q2151.69 191.129 2149.7 193.814 Q2147.71 196.476 2147.71 201.129 Q2147.71 205.782 2149.68 208.467 Q2151.67 211.129 2155.12 211.129 Q2158.52 211.129 2160.51 208.444 Q2162.5 205.758 2162.5 201.129 Q2162.5 196.522 2160.51 193.837 Q2158.52 191.129 2155.12 191.129 M2155.12 187.518 Q2160.67 187.518 2163.84 191.129 Q2167.01 194.74 2167.01 201.129 Q2167.01 207.495 2163.84 211.129 Q2160.67 214.74 2155.12 214.74 Q2149.54 214.74 2146.37 211.129 Q2143.22 207.495 2143.22 201.129 Q2143.22 194.74 2146.37 191.129 Q2149.54 187.518 2155.12 187.518 Z\" fill=\"#000000\" fill-rule=\"evenodd\" fill-opacity=\"1\" /><path clip-path=\"url(#clip050)\" d=\"M2174.07 188.143 L2178.33 188.143 L2178.33 214.069 L2174.07 214.069 L2174.07 188.143 M2174.07 178.05 L2178.33 178.05 L2178.33 183.444 L2174.07 183.444 L2174.07 178.05 Z\" fill=\"#000000\" fill-rule=\"evenodd\" fill-opacity=\"1\" /><path clip-path=\"url(#clip050)\" d=\"M2203.77 188.907 L2203.77 192.934 Q2201.97 192.009 2200.02 191.546 Q2198.08 191.083 2195.99 191.083 Q2192.82 191.083 2191.23 192.055 Q2189.65 193.027 2189.65 194.971 Q2189.65 196.453 2190.79 197.309 Q2191.92 198.143 2195.35 198.907 L2196.8 199.231 Q2201.34 200.203 2203.24 201.985 Q2205.16 203.745 2205.16 206.916 Q2205.16 210.527 2202.29 212.633 Q2199.44 214.74 2194.44 214.74 Q2192.36 214.74 2190.09 214.323 Q2187.85 213.93 2185.35 213.12 L2185.35 208.721 Q2187.71 209.948 2190 210.573 Q2192.29 211.175 2194.54 211.175 Q2197.55 211.175 2199.17 210.157 Q2200.79 209.115 2200.79 207.24 Q2200.79 205.504 2199.61 204.578 Q2198.45 203.652 2194.49 202.796 L2193.01 202.448 Q2189.05 201.615 2187.29 199.902 Q2185.53 198.166 2185.53 195.157 Q2185.53 191.499 2188.12 189.509 Q2190.72 187.518 2195.49 187.518 Q2197.85 187.518 2199.93 187.865 Q2202.01 188.212 2203.77 188.907 Z\" fill=\"#000000\" fill-rule=\"evenodd\" fill-opacity=\"1\" /><path clip-path=\"url(#clip050)\" d=\"M2222.73 216.476 Q2220.92 221.106 2219.21 222.518 Q2217.5 223.93 2214.63 223.93 L2211.23 223.93 L2211.23 220.365 L2213.73 220.365 Q2215.49 220.365 2216.46 219.532 Q2217.43 218.698 2218.61 215.596 L2219.37 213.652 L2208.89 188.143 L2213.4 188.143 L2221.5 208.421 L2229.61 188.143 L2234.12 188.143 L2222.73 216.476 Z\" fill=\"#000000\" fill-rule=\"evenodd\" fill-opacity=\"1\" /><polyline clip-path=\"url(#clip050)\" style=\"stroke:#3da44d; stroke-linecap:butt; stroke-linejoin:round; stroke-width:4; stroke-opacity:1; fill:none\" points=\"\n",
       "  1948.77,248.629 2091.13,248.629 \n",
       "  \"/>\n",
       "<path clip-path=\"url(#clip050)\" d=\"M2138.89 251.881 L2138.89 253.964 L2119.31 253.964 Q2119.58 258.362 2121.94 260.677 Q2124.33 262.969 2128.56 262.969 Q2131.02 262.969 2133.31 262.367 Q2135.62 261.765 2137.89 260.561 L2137.89 264.589 Q2135.6 265.561 2133.19 266.071 Q2130.79 266.58 2128.31 266.58 Q2122.11 266.58 2118.47 262.969 Q2114.86 259.358 2114.86 253.2 Q2114.86 246.835 2118.29 243.108 Q2121.74 239.358 2127.57 239.358 Q2132.8 239.358 2135.83 242.737 Q2138.89 246.094 2138.89 251.881 M2134.63 250.631 Q2134.58 247.136 2132.66 245.052 Q2130.76 242.969 2127.62 242.969 Q2124.05 242.969 2121.9 244.983 Q2119.77 246.997 2119.44 250.654 L2134.63 250.631 Z\" fill=\"#000000\" fill-rule=\"evenodd\" fill-opacity=\"1\" /><path clip-path=\"url(#clip050)\" d=\"M2162.41 240.747 L2162.41 244.774 Q2160.6 243.849 2158.66 243.386 Q2156.71 242.923 2154.63 242.923 Q2151.46 242.923 2149.86 243.895 Q2148.29 244.867 2148.29 246.811 Q2148.29 248.293 2149.42 249.149 Q2150.55 249.983 2153.98 250.747 L2155.44 251.071 Q2159.98 252.043 2161.87 253.825 Q2163.8 255.585 2163.8 258.756 Q2163.8 262.367 2160.93 264.473 Q2158.08 266.58 2153.08 266.58 Q2150.99 266.58 2148.73 266.163 Q2146.48 265.77 2143.98 264.96 L2143.98 260.561 Q2146.34 261.788 2148.63 262.413 Q2150.93 263.015 2153.17 263.015 Q2156.18 263.015 2157.8 261.997 Q2159.42 260.955 2159.42 259.08 Q2159.42 257.344 2158.24 256.418 Q2157.08 255.492 2153.12 254.636 L2151.64 254.288 Q2147.68 253.455 2145.93 251.742 Q2144.17 250.006 2144.17 246.997 Q2144.17 243.339 2146.76 241.349 Q2149.35 239.358 2154.12 239.358 Q2156.48 239.358 2158.56 239.705 Q2160.65 240.052 2162.41 240.747 Z\" fill=\"#000000\" fill-rule=\"evenodd\" fill-opacity=\"1\" /><path clip-path=\"url(#clip050)\" d=\"M2174.79 232.622 L2174.79 239.983 L2183.56 239.983 L2183.56 243.293 L2174.79 243.293 L2174.79 257.367 Q2174.79 260.538 2175.65 261.441 Q2176.53 262.344 2179.19 262.344 L2183.56 262.344 L2183.56 265.909 L2179.19 265.909 Q2174.26 265.909 2172.38 264.08 Q2170.51 262.228 2170.51 257.367 L2170.51 243.293 L2167.38 243.293 L2167.38 239.983 L2170.51 239.983 L2170.51 232.622 L2174.79 232.622 Z\" fill=\"#000000\" fill-rule=\"evenodd\" fill-opacity=\"1\" /></svg>\n"
      ]
     },
     "execution_count": 19,
     "metadata": {},
     "output_type": "execute_result"
    }
   ],
   "source": [
    "# Plot the trajectories\n",
    "Xline = SVector{nx}.(Xline)\n",
    "Xnoisy = SVector{nx}.(Xnoisy)\n",
    "Xest = SVector{nx}.(Xest)\n",
    "if !isautograder\n",
    "\n",
    "    traj2(Xline, label=\"ref\")\n",
    "    traj2!(Xnoisy, label=\"noisy\")\n",
    "    traj2!(Xest, label=\"est\")\n",
    "#     plot!(Ynoisy'[1],Ynoisy'[2])\n",
    "\n",
    "end"
   ]
  },
  {
   "cell_type": "code",
   "execution_count": null,
   "metadata": {},
   "outputs": [],
   "source": []
  }
 ],
 "metadata": {
  "@webio": {
   "lastCommId": null,
   "lastKernelId": null
  },
  "kernelspec": {
   "display_name": "Julia 1.6.5",
   "language": "julia",
   "name": "julia-1.6"
  },
  "language_info": {
   "file_extension": ".jl",
   "mimetype": "application/julia",
   "name": "julia",
   "version": "1.6.5"
  }
 },
 "nbformat": 4,
 "nbformat_minor": 4
}
