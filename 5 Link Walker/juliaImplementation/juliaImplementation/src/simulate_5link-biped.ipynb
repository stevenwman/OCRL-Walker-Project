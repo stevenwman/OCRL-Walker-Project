{
 "cells": [
  {
   "cell_type": "code",
   "execution_count": 5,
   "metadata": {},
   "outputs": [
    {
     "name": "stderr",
     "output_type": "stream",
     "text": [
      "\u001b[32m\u001b[1m  Activating\u001b[22m\u001b[39m project at `c:\\Users\\14088\\Documents\\CMU\\cmu\\Classes\\Optimal Control and Reinforcement Learning\\Final Project\\OCRL-Walker-Project-Steven\\OCRL-Walker-Project-Steven\\juliaImplementation\\juliaImplementation`\n"
     ]
    }
   ],
   "source": [
    "import Pkg; Pkg.activate(joinpath(@__DIR__,\"..\")); \n",
    "Pkg.instantiate()\n",
    "\n",
    "using ForwardDiff\n",
    "using LinearAlgebra\n",
    "using Statistics\n",
    "using Plots\n",
    "plotlyjs()\n",
    "using Printf\n",
    "using Random\n",
    "using DifferentialEquations"
   ]
  },
  {
   "cell_type": "code",
   "execution_count": 2,
   "metadata": {},
   "outputs": [
    {
     "ename": "UndefVarError",
     "evalue": "UndefVarError: biped_dynamics_5link not defined",
     "output_type": "error",
     "traceback": [
      "UndefVarError: biped_dynamics_5link not defined\n",
      "\n",
      "Stacktrace:\n",
      " [1] top-level scope\n",
      "   @ c:\\Users\\14088\\Documents\\CMU\\cmu\\Classes\\Optimal Control and Reinforcement Learning\\Final Project\\OCRL-Walker-Project-Steven\\OCRL-Walker-Project-Steven\\juliaImplementation\\juliaImplementation\\src\\simulate_5link-biped.ipynb:14"
     ]
    }
   ],
   "source": [
    "const FD = ForwardDiff;\n",
    "\n",
    "PLOTS_DEFAULTS = Dict(:dpi => 600);\n",
    "\n",
    "include(\"GeneralizedFunctionality/est_parameters.jl\");\n",
    "include(\"GeneralizedFunctionality/hybrid_system_simulation_tools.jl\")\n",
    "include(\"GeneralizedFunctionality/SKF_general.jl\")\n",
    "include(\"GeneralizedFunctionality/batch_estimation.jl\")\n",
    "include(\"GeneralizedFunctionality/generalized_saltation_calculations.jl\")\n",
    "# include(\"DynamicSystems/bouncing_ball.jl\") # Defines hybrid system functions\n",
    "include(\"DynamicSystems/biped5link.jl\") # Defines hybrid system functions\n",
    "\n",
    "#Falling ball system definition\n",
    "dynamics = [biped_dynamics_5link]\n",
    "resets = [[idReset]]\n",
    "guards = [[idGuard]]"
   ]
  },
  {
   "cell_type": "code",
   "execution_count": 3,
   "metadata": {},
   "outputs": [
    {
     "ename": "UndefVarError",
     "evalue": "UndefVarError: dynamics not defined",
     "output_type": "error",
     "traceback": [
      "UndefVarError: dynamics not defined\n",
      "\n",
      "Stacktrace:\n",
      " [1] top-level scope\n",
      "   @ c:\\Users\\14088\\Documents\\CMU\\cmu\\Classes\\Optimal Control and Reinforcement Learning\\Final Project\\OCRL-Walker-Project-Steven\\OCRL-Walker-Project-Steven\\juliaImplementation\\juliaImplementation\\src\\simulate_5link-biped.ipynb:26"
     ]
    }
   ],
   "source": [
    "mode0 = 1\n",
    "t = 3.0\n",
    "dt = .01\n",
    "\n",
    "q1 = 200 / 180 * π\n",
    "q2 = 170 / 180 * π\n",
    "q3 = -20 / 180 * π\n",
    "q4 = -30 / 180 * π\n",
    "q5 = -5 / 180 * π\n",
    "qd1 = 0\n",
    "qd2 = 0\n",
    "qd3 = 0\n",
    "qd4 = 0\n",
    "qd5 = 0\n",
    "\n",
    "x0 = [q1,q2,q3,q4,q5,qd1,qd2,qd3,q4,qd5]\n",
    "\n",
    "p = (g=9.81, \n",
    "     L_torso=0.63, L_fem=0.4, L_tib=0.4,\n",
    "     M_torso=12, M_fem=6.8, M_tib=3.2,\n",
    "     MY_torso=0.24, MZ_torso=0.24, \n",
    "     MZ_fem=0.11, MZ_tib=0.24, \n",
    "     XX_torso=0.63, XX_fem=1.33, XX_tib=0.2)\n",
    "\n",
    "#Nominal Trajectory\n",
    "nom_states, _, times, nom_modes, nom_impact_states,_ = sim_system(x0,mode0,dynamics,resets,guards,0,0,0,t,dt)\n",
    "state_matrix = hcat(nom_states...)\n",
    "\n",
    "display(size(state_matrix))\n",
    "display(state_matrix)\n",
    "\n",
    "plot()\n",
    "[plot!(times,state_matrix[i,:], label = \"state $i\") for i in 1:5]\n",
    "display(plot!())\n",
    "\n",
    "plot()\n",
    "[plot!(times,state_matrix[i,:], label = \"state $i\") for i in 6:10]\n",
    "display(plot!())\n",
    "\n",
    "anim = Animation()\n",
    "lim = 1.5\n",
    "\n",
    "timesteps = size(state_matrix,2)\n",
    "slope = 0.02\n",
    "\n",
    "j1 = [0,0]\n",
    "# Loop to create frames\n",
    "for i in 1:timesteps\n",
    "\n",
    "    if i > 1 && nom_modes[i] == 1 && nom_modes[i-1] == 2\n",
    "        j1 = kinematics(state_matrix[:,i-1])[end]\n",
    "    end\n",
    "\n",
    "    js = hcat(kinematics(state_matrix[:,i])...)\n",
    "    # Plot the data\n",
    "    l_bound = -lim\n",
    "    r_bound = 2*lim\n",
    "\n",
    "    xs = l_bound:0.01:r_bound\n",
    "    ys = -slope * xs\n",
    "    plot(xs, ys, linestyle=:solid, label=\"Ground\", color=\"black\")\n",
    "    plot!(js[1,:], js[2,:], xlim=(l_bound,r_bound),\n",
    "                            ylim=(l_bound,r_bound), \n",
    "                            label=\"Points\", \n",
    "                            color=\"blue\", \n",
    "                            linestyle=:solid, \n",
    "                            marker=:circle, \n",
    "                            aspect_ratio=:equal)\n",
    "    annotate!(-1, 1, times[i], color=:red)\n",
    "    # Add frame to animation\n",
    "    frame(anim)\n",
    "end\n",
    "# Save the animation as a gif\n",
    "gif(anim, \"walker2.gif\", fps = 30)"
   ]
  },
  {
   "cell_type": "code",
   "execution_count": 4,
   "metadata": {},
   "outputs": [],
   "source": []
  }
 ],
 "metadata": {
  "kernelspec": {
   "display_name": "Julia 1.8.3",
   "language": "julia",
   "name": "julia-1.8"
  },
  "language_info": {
   "file_extension": ".jl",
   "mimetype": "application/julia",
   "name": "julia",
   "version": "1.8.3"
  }
 },
 "nbformat": 4,
 "nbformat_minor": 2
}
